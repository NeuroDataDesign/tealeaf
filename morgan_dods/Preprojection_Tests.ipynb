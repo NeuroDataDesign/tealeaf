{
 "cells": [
  {
   "cell_type": "code",
   "execution_count": null,
   "metadata": {},
   "outputs": [],
   "source": [
    "# ADAPTED FROM EXISTING MNIST DEMO NOTEBOOK"
   ]
  },
  {
   "cell_type": "code",
   "execution_count": 1,
   "metadata": {},
   "outputs": [],
   "source": [
    "import time\n",
    "import matplotlib.pyplot as plt\n",
    "import numpy as np\n",
    "\n",
    "from sklearn.datasets import fetch_openml\n",
    "from sklearn.model_selection import train_test_split\n",
    "from sklearn.preprocessing import StandardScaler\n",
    "from sklearn.utils import check_random_state\n",
    "\n",
    "from rerf.rerfClassifier import rerfClassifier\n",
    "from sklearn.ensemble import RandomForestClassifier"
   ]
  },
  {
   "cell_type": "code",
   "execution_count": 2,
   "metadata": {},
   "outputs": [],
   "source": [
    "# Author: Arthur Mensch <arthur.mensch@m4x.org>\n",
    "# License: BSD 3 clause\n",
    "\n",
    "# Turn down for faster convergence\n",
    "train_samples = 5000\n",
    "\n",
    "# Load data from https://www.openml.org/d/554\n",
    "X, y = fetch_openml('mnist_784', version=1, return_X_y=True)"
   ]
  },
  {
   "cell_type": "code",
   "execution_count": 3,
   "metadata": {},
   "outputs": [
    {
     "data": {
      "text/plain": [
       "<matplotlib.image.AxesImage at 0x1a264a7d10>"
      ]
     },
     "execution_count": 3,
     "metadata": {},
     "output_type": "execute_result"
    },
    {
     "data": {
      "image/png": "[encoded data removed]",
      "text/plain": [
       "<Figure size 432x288 with 1 Axes>"
      ]
     },
     "metadata": {
      "needs_background": "light"
     },
     "output_type": "display_data"
    }
   ],
   "source": [
    "plt.imshow(X[0].reshape((28,28)))"
   ]
  },
  {
   "cell_type": "code",
   "execution_count": 4,
   "metadata": {},
   "outputs": [
    {
     "name": "stdout",
     "output_type": "stream",
     "text": [
      "(70000, 784)\n",
      "(70000,)\n"
     ]
    }
   ],
   "source": [
    "print(X.shape)\n",
    "print(y.shape)"
   ]
  },
  {
   "cell_type": "code",
   "execution_count": 5,
   "metadata": {},
   "outputs": [],
   "source": [
    "random_state = check_random_state(0)\n",
    "permutation = random_state.permutation(X.shape[0])\n",
    "X = X[permutation]\n",
    "y = y[permutation]\n",
    "X = X.reshape((X.shape[0], -1))"
   ]
  },
  {
   "cell_type": "code",
   "execution_count": 6,
   "metadata": {},
   "outputs": [
    {
     "name": "stdout",
     "output_type": "stream",
     "text": [
      "RandomForestClassifier(bootstrap=True, class_weight=None, criterion='gini',\n",
      "                       max_depth=None, max_features='auto', max_leaf_nodes=None,\n",
      "                       min_impurity_decrease=0.0, min_impurity_split=None,\n",
      "                       min_samples_leaf=1, min_samples_split=2,\n",
      "                       min_weight_fraction_leaf=0.0, n_estimators=100, n_jobs=8,\n",
      "                       oob_score=False, random_state=None, verbose=0,\n",
      "                       warm_start=False)\n",
      "RandomForestClassifier(bootstrap=True, class_weight=None, criterion='gini',\n",
      "                       max_depth=None, max_features='auto', max_leaf_nodes=None,\n",
      "                       min_impurity_decrease=0.0, min_impurity_split=None,\n",
      "                       min_samples_leaf=1, min_samples_split=2,\n",
      "                       min_weight_fraction_leaf=0.0, n_estimators=100, n_jobs=8,\n",
      "                       oob_score=False, random_state=None, verbose=0,\n",
      "                       warm_start=False)\n",
      "rerfClassifier(feature_combinations=1.5, image_height=28, image_width=28,\n",
      "               max_depth=None, max_features='auto', min_samples_split=1,\n",
      "               n_estimators=100, n_jobs=8, oob_score=False, patch_height_max=5,\n",
      "               patch_height_min=1, patch_width_max=5, patch_width_min=1,\n",
      "               projection_matrix='S-RerF', random_state=None)\n"
     ]
    }
   ],
   "source": [
    "#clf_rerf = rerfClassifier(projection_matrix=\"Base\", n_jobs=8, n_estimators=100)\n",
    "ncores = 8\n",
    "nest = 100\n",
    "im_height=28\n",
    "im_width=28\n",
    "patch_h_min=1\n",
    "patch_w_min=1\n",
    "patch_h_max=5\n",
    "patch_w_max=5\n",
    "\n",
    "clf_sklearnrf_proj = RandomForestClassifier(n_jobs = ncores, n_estimators = nest)\n",
    "clf_sklearnrf = RandomForestClassifier(n_jobs = ncores, n_estimators = nest)\n",
    "clf_MORF = rerfClassifier(projection_matrix=\"S-RerF\",\n",
    "                             image_height=im_height,\n",
    "                             image_width=im_width,\n",
    "                             n_estimators=nest,\n",
    "                             patch_height_min=patch_h_min,\n",
    "                             patch_width_min=patch_w_min,\n",
    "                             patch_height_max=patch_h_max,\n",
    "                             patch_width_max=patch_w_max,\n",
    "                             n_jobs=ncores, \n",
    "                           )\n",
    "print(clf_sklearnrf_proj)\n",
    "print(clf_sklearnrf)\n",
    "print(clf_MORF)"
   ]
  },
  {
   "cell_type": "code",
   "execution_count": 11,
   "metadata": {},
   "outputs": [],
   "source": [
    "import random\n",
    "def RandPatchGen(ih, iw, ph_min, ph_max, pw_min, pw_max, num_patches):\n",
    "    # generate random patch list (height, width, (top_left_row, top_left_col) )\n",
    "    # param ih: image height (integer)\n",
    "    # param iw: image width (integer)\n",
    "    # param ph_min: patch height minimum (integer)\n",
    "    # param ph_max: patch height maximum (integer)\n",
    "    # param pw_min: patch width minimum (integer)\n",
    "    # param pw_max: patch width maximum (integer)\n",
    "    # param num_patches: desired number of patches (integer)\n",
    "    # return : list of patches\n",
    "    \n",
    "    #Initialize patch descriptors\n",
    "    deltah = 0\n",
    "    deltaw = 0\n",
    "    topLeft = (0,0)\n",
    "    bottomRight = (0,0)\n",
    "    \n",
    "    #generate num_patches patches by randomly choosing \n",
    "    #a height, width, and top left coordinate\n",
    "    patches = []\n",
    "    for i in range(num_patches):\n",
    "        # generate random patch height and width\n",
    "        deltah = random.randint(ph_min, ph_max)\n",
    "        deltaw = random.randint(pw_min, pw_max)\n",
    "        \n",
    "        # generate random patch top left corner by \n",
    "        # restricting based on patch height and width\n",
    "        ih_max = ih - deltah - 1 # original adds 1, not sure why\n",
    "        iw_max = iw - deltaw - 1 \n",
    "        #stored as tuple instead of single value\n",
    "        topLeft = (random.randint(0,ih_max), random.randint(0,iw_max)) \n",
    "        \n",
    "        # store height, width, and top left corner index in patches list\n",
    "        patches.append((deltah, deltaw, tuple(topLeft))) # do I need to deep copy? \n",
    "        \n",
    "    return patches\n",
    "\n",
    "def preprojection(X, patches, ih, iw):\n",
    "    X_cube = X.reshape((len(X), ih, iw))\n",
    "    X_new =  np.empty((len(X),0), int)\n",
    "    for patch in patches:\n",
    "        dh, dw, topLeft = patch\n",
    "        ystart, xstart = topLeft\n",
    "        xend = xstart + dw\n",
    "        yend = ystart + dh\n",
    "        feat = np.sum(np.sum(X_cube[:, ystart:yend, xstart:xend], axis = 1), axis = 1).reshape((len(X),1))\n",
    "        X_new = np.append(X_new, feat, axis=1)\n",
    "    return X_new"
   ]
  },
  {
   "cell_type": "code",
   "execution_count": 13,
   "metadata": {},
   "outputs": [],
   "source": [
    "patches = RandPatchGen(im_height, im_width, patch_h_min, patch_h_max, patch_w_min, patch_w_max, im_height * im_width * 2)"
   ]
  },
  {
   "cell_type": "code",
   "execution_count": 20,
   "metadata": {},
   "outputs": [],
   "source": [
    "X_train, X_test, y_train, y_test = train_test_split(\n",
    "    X, y, train_size=train_samples, test_size=10000)\n",
    "\n",
    "scaler = StandardScaler()\n",
    "X_train = scaler.fit_transform(X_train)\n",
    "X_test = scaler.transform(X_test)\n",
    "\n",
    "\n",
    "X_train_proj = preprojection(X_train, patches, im_height, im_width)\n",
    "X_test_proj = preprojection(X_test, patches, im_height, im_width)\n",
    "\n",
    "y_train = y_train.astype(int)\n",
    "y_test = y_test.astype(int)"
   ]
  },
  {
   "cell_type": "code",
   "execution_count": 21,
   "metadata": {},
   "outputs": [
    {
     "name": "stdout",
     "output_type": "stream",
     "text": [
      "run time sklearnrf raw 0.6595962047576904\n"
     ]
    }
   ],
   "source": [
    "t0 = time.time()\n",
    "clf_sklearnrf.fit(X_train, y_train)\n",
    "run_time = time.time() - t0\n",
    "print(\"run time sklearnrf raw\", run_time)"
   ]
  },
  {
   "cell_type": "code",
   "execution_count": 22,
   "metadata": {},
   "outputs": [
    {
     "name": "stdout",
     "output_type": "stream",
     "text": [
      "run time sklearnrf projection 1.5471982955932617\n"
     ]
    }
   ],
   "source": [
    "t0 = time.time()\n",
    "clf_sklearnrf_proj.fit(X_train_proj, y_train)\n",
    "run_time = time.time() - t0\n",
    "print(\"run time sklearnrf projection\", run_time)"
   ]
  },
  {
   "cell_type": "code",
   "execution_count": 23,
   "metadata": {},
   "outputs": [
    {
     "name": "stdout",
     "output_type": "stream",
     "text": [
      "run time MORF 6.426556825637817\n"
     ]
    }
   ],
   "source": [
    "t0 = time.time()\n",
    "clf_MORF.fit(X_train, y_train)\n",
    "run_time = time.time() - t0\n",
    "print(\"run time MORF\", run_time)"
   ]
  },
  {
   "cell_type": "code",
   "execution_count": 24,
   "metadata": {},
   "outputs": [
    {
     "name": "stdout",
     "output_type": "stream",
     "text": [
      "train_acc sklearnrf raw 1.0\n",
      "train_acc sklearnrf projection 1.0\n",
      "train_acc MORF 1.0\n"
     ]
    }
   ],
   "source": [
    "train_acc_sklearnrf = clf_sklearnrf.score(X_train, y_train)\n",
    "print(\"train_acc sklearnrf raw\", train_acc_sklearnrf)\n",
    "\n",
    "train_acc_sklearnrf_proj = clf_sklearnrf_proj.score(X_train_proj, y_train)\n",
    "print(\"train_acc sklearnrf projection\", train_acc_sklearnrf_proj)\n",
    "\n",
    "train_acc_MORF = clf_MORF.score(X_train, y_train)\n",
    "print(\"train_acc MORF\", train_acc_sklearnrf_proj)"
   ]
  },
  {
   "cell_type": "code",
   "execution_count": 26,
   "metadata": {},
   "outputs": [
    {
     "name": "stdout",
     "output_type": "stream",
     "text": [
      "score sklearnrf raw 0.9373\n",
      "score sklearnrf projection 0.9429\n",
      "score MORF 0.9423\n"
     ]
    }
   ],
   "source": [
    "score_sklearnrf = clf_sklearnrf.score(X_test, y_test)\n",
    "print(\"score sklearnrf raw\", score_sklearnrf)\n",
    "\n",
    "score_sklearnrf_proj = clf_sklearnrf_proj.score(X_test_proj, y_test)\n",
    "print(\"score sklearnrf projection\", score_sklearnrf_proj)\n",
    "\n",
    "score_MORF = clf_MORF.score(X_test, y_test)\n",
    "print(\"score MORF\", score_MORF)"
   ]
  },
  {
   "cell_type": "code",
   "execution_count": null,
   "metadata": {},
   "outputs": [],
   "source": [
    "scores_sklearnrf = []\n",
    "scores_sklearnrf_proj = []\n",
    "scores_MORF = []\n",
    "for it in range(100):\n",
    "    patches = RandPatchGen(im_height, im_width, patch_h_min, patch_h_max, patch_w_min, patch_w_max, im_height * im_width * 2)\n",
    "    X_train, X_test, y_train, y_test = train_test_split(X, y, train_size=train_samples, test_size=10000)\n",
    "\n",
    "    scaler = StandardScaler()\n",
    "    X_train = scaler.fit_transform(X_train)\n",
    "    X_test = scaler.transform(X_test)\n",
    "\n",
    "\n",
    "    X_train_proj = preprojection(X_train, patches, im_height, im_width)\n",
    "    X_test_proj = preprojection(X_test, patches, im_height, im_width)\n",
    "\n",
    "    y_train = y_train.astype(int)\n",
    "    y_test = y_test.astype(int)\n",
    "    \n",
    "    clf_sklearnrf.fit(X_train, y_train)\n",
    "    clf_sklearnrf_proj.fit(X_train_proj, y_train)\n",
    "    clf_MORF.fit(X_train, y_train)\n",
    "    \n",
    "    #train_acc_sklearnrf = clf_sklearnrf.score(X_train, y_train)\n",
    "    #train_acc_sklearnrf_proj = clf_sklearnrf_proj.score(X_train_proj, y_train)\n",
    "    #train_acc_MORF = clf_MORF.score(X_train, y_train)\n",
    "    \n",
    "    scores_sklearnrf.append(clf_sklearnrf.score(X_test, y_test))\n",
    "    scores_sklearnrf_proj.append(clf_sklearnrf_proj.score(X_test_proj, y_test))\n",
    "    scores_MORF.append(clf_MORF.score(X_test, y_test))\n",
    "\n",
    "scores_sklearnrf = np.array(scores_sklearnrf)\n",
    "scores_sklearnrf_proj = np.array(scores_sklearnrf_proj)\n",
    "scores_MORF = np.array(scores_MORF)"
   ]
  },
  {
   "cell_type": "code",
   "execution_count": null,
   "metadata": {},
   "outputs": [],
   "source": [
    "sklearnrf_mean = np.mean(scores_sklearnrf)\n",
    "sklearnrf_proj_mean = np.mean(scores_sklearnrf_proj)\n",
    "MORF_mean = np.mean(scores_MORF)\n",
    "print(\"Mean Score Sklearn RF Raw: \" + str(sklearnrf_mean))\n",
    "print(\"Mean Score Sklearn RF Projections: \" + str(sklearnrf_proj_mean))\n",
    "print(\"Mean Score MORF: \" + str(MORF_mean))\n",
    "\n",
    "sklearnrf_std = np.std(scores_sklearnrf)\n",
    "sklearnrf_proj_std = np.std(scores_sklearnrf_proj)\n",
    "MORF_std = np.std(scores_MORF)\n",
    "print(\"Score Standard Deviation Sklearn RF Raw: \" + str(sklearnrf_std))\n",
    "print(\"Score Standard Deviation Sklearn RF Projections: \" + str(sklearnrf_proj_std))\n",
    "print(\"Score Standard Deviation MORF: \" + str(MORF_std))"
   ]
  },
  {
   "cell_type": "code",
   "execution_count": null,
   "metadata": {},
   "outputs": [],
   "source": [
    "import pandas as pd\n",
    "import seaborn as sns\n",
    "\n",
    "data = pd.DataFrame(np.array([scores_sklearnrf,scores_sklearnrf_proj, scores_MORF], \n",
    "                             columns = ['sklearnrf_raw', 'sklearnrf_proj', 'MORF']))\n",
    "#f = sns.lineplot(x=\"Trial\", y=\"Score\", hue=\"split\", data=df)"
   ]
  }
 ],
 "metadata": {
  "kernelspec": {
   "display_name": "Python 3",
   "language": "python",
   "name": "python3"
  },
  "language_info": {
   "codemirror_mode": {
    "name": "ipython",
    "version": 3
   },
   "file_extension": ".py",
   "mimetype": "text/x-python",
   "name": "python",
   "nbconvert_exporter": "python",
   "pygments_lexer": "ipython3",
   "version": "3.7.4"
  }
 },
 "nbformat": 4,
 "nbformat_minor": 2
}
