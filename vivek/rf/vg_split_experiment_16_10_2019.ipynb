{
 "cells": [
  {
   "cell_type": "markdown",
   "metadata": {},
   "source": [
    "# Experiment: What is the best split criteria?\n",
    "\n",
    "Vivek Gopalakrishnan | October 16, 2019"
   ]
  },
  {
   "cell_type": "code",
   "execution_count": 1,
   "metadata": {},
   "outputs": [],
   "source": [
    "import matplotlib.pyplot as plt\n",
    "import numpy as np\n",
    "import pandas as pd\n",
    "import seaborn as sns\n",
    "from tqdm import tqdm\n",
    "\n",
    "from rf import RandomForest"
   ]
  },
  {
   "cell_type": "markdown",
   "metadata": {},
   "source": [
    "## Generate synthetic data\n",
    "\n",
    "$$\n",
    "X_i \\sim \\text{MVN}(\\vec{0}, I_2) \\\\\n",
    "Y_i = A_{\\theta}X_i\n",
    "$$\n",
    "where $A_{\\theta}$ is a rotation matrix parameterized by $\\theta$.\n",
    "\n",
    "$D_n = \\{(X_i, y_i)\\}$ for $i=1,\\dots,n$."
   ]
  },
  {
   "cell_type": "code",
   "execution_count": 2,
   "metadata": {},
   "outputs": [],
   "source": [
    "def generate_data(\n",
    "    n=25, \n",
    "    mean=[0, 0], \n",
    "    cov=[[1, 0], [0, 1]],\n",
    "    theta=np.pi/4\n",
    "):\n",
    "    \"\"\"\n",
    "    Generate synthetic data. \n",
    "    X ~iid MVN(u=0, cov=I).\n",
    "    y = AX where A is a rotation matrix.\n",
    "    \"\"\"\n",
    "    \n",
    "    # Rotation matrix\n",
    "    A = [\n",
    "        [np.cos(theta), -np.sin(theta)],\n",
    "        [np.sin(theta), np.cos(theta)]\n",
    "    ]\n",
    "    \n",
    "    # Sample random variables\n",
    "    X = np.random.multivariate_normal(mean, cov, size=n)\n",
    "    y = np.dot(A, X.T)\n",
    "    \n",
    "    return X, y.T"
   ]
  },
  {
   "cell_type": "code",
   "execution_count": 3,
   "metadata": {},
   "outputs": [
    {
     "data": {
      "image/png": "[encoded data removed]",
      "text/plain": [
       "<Figure size 432x288 with 1 Axes>"
      ]
     },
     "metadata": {
      "needs_background": "light"
     },
     "output_type": "display_data"
    }
   ],
   "source": [
    "# Test default parameters\n",
    "\n",
    "X, y = generate_data()\n",
    "\n",
    "plt.scatter(X[:, 0], X[:, 1], c=\"blue\", label=\"X\")\n",
    "plt.scatter(y[:, 0], y[:, 1], c=\"red\", label=\"y\")\n",
    "\n",
    "# Plot lines between matched pairs of points\n",
    "for xi, yi in zip(X, y):\n",
    "    plt.plot(\n",
    "        [xi[0], yi[0]], \n",
    "        [xi[1], yi[1]], \n",
    "        c=\"black\", \n",
    "        alpha = 0.15\n",
    "    )\n",
    "\n",
    "plt.legend()\n",
    "plt.show()"
   ]
  },
  {
   "cell_type": "markdown",
   "metadata": {},
   "source": [
    "## Random Forest\n",
    "\n",
    "Split criteria being tested:\n",
    "\n",
    "1. MAE\n",
    "2. MSE\n",
    "3. Axis projections\n",
    "4. Random projections"
   ]
  },
  {
   "cell_type": "code",
   "execution_count": 4,
   "metadata": {},
   "outputs": [],
   "source": [
    "def measure_mse(X, y, max_depth=10, n_features=1, min_leaf_size=5, n_trees=1000, n_bagging=10):\n",
    "    \"\"\"\n",
    "    Return MSE for each split criteria.\n",
    "    \"\"\"\n",
    "    \n",
    "    # Make a set of default parameters\n",
    "    default = {\n",
    "        \"max_depth\": max_depth, \n",
    "        \"n_features\": n_features, \n",
    "        \"min_leaf_size\": min_leaf_size, \n",
    "        \"n_trees\": n_trees, \n",
    "        \"n_bagging\": n_bagging,\n",
    "    }\n",
    "    \n",
    "    # Iterate over different split criteria\n",
    "    errors = []\n",
    "    for split in [\"mae\", \"mse\", \"projection_axis\", \"projection_random\"]:\n",
    "\n",
    "        # Fit model\n",
    "        rf = RandomForest(X, y, criteria=split, **default)\n",
    "        rf.create_model()\n",
    "\n",
    "        # Make predictions and score\n",
    "        yhat = rf.predict(X)\n",
    "        mse = np.linalg.norm(y-yhat)\n",
    "        errors.append(mse)\n",
    "        \n",
    "    return errors"
   ]
  },
  {
   "cell_type": "code",
   "execution_count": 5,
   "metadata": {},
   "outputs": [
    {
     "data": {
      "text/plain": [
       "[7.300990586246242, 7.315384652381843, 6.979083780899895, 6.903477221395761]"
      ]
     },
     "execution_count": 5,
     "metadata": {},
     "output_type": "execute_result"
    }
   ],
   "source": [
    "# Test functions on sample data\n",
    "measure_mse(X, y)"
   ]
  },
  {
   "cell_type": "markdown",
   "metadata": {},
   "source": [
    "## Simulation\n",
    "\n",
    "Measure the effect of sample size on MSE. Choose $n=10, 20, \\dots, 200$."
   ]
  },
  {
   "cell_type": "code",
   "execution_count": 6,
   "metadata": {},
   "outputs": [
    {
     "name": "stderr",
     "output_type": "stream",
     "text": [
      "100%|██████████| 20/20 [14:55<00:00, 44.75s/it]\n"
     ]
    }
   ],
   "source": [
    "# Run simulation\n",
    "results = []\n",
    "max_n = 201\n",
    "n_iter = 10\n",
    "\n",
    "for n in tqdm(range(10, max_n, 10)):\n",
    "    for i in range(n_iter):\n",
    "        \n",
    "        # Generate sample data\n",
    "        X, y = generate_data(n=n)\n",
    "        \n",
    "        # Measure MSE\n",
    "        mse = measure_mse(X, y)\n",
    "        \n",
    "        # Add to dataframe\n",
    "        mse.insert(0, n)\n",
    "        results.append(mse)"
   ]
  },
  {
   "cell_type": "code",
   "execution_count": 7,
   "metadata": {},
   "outputs": [
    {
     "data": {
      "text/html": [
       "<div>\n",
       "<style scoped>\n",
       "    .dataframe tbody tr th:only-of-type {\n",
       "        vertical-align: middle;\n",
       "    }\n",
       "\n",
       "    .dataframe tbody tr th {\n",
       "        vertical-align: top;\n",
       "    }\n",
       "\n",
       "    .dataframe thead th {\n",
       "        text-align: right;\n",
       "    }\n",
       "</style>\n",
       "<table border=\"1\" class=\"dataframe\">\n",
       "  <thead>\n",
       "    <tr style=\"text-align: right;\">\n",
       "      <th></th>\n",
       "      <th>n</th>\n",
       "      <th>split</th>\n",
       "      <th>mse</th>\n",
       "    </tr>\n",
       "  </thead>\n",
       "  <tbody>\n",
       "    <tr>\n",
       "      <td>0</td>\n",
       "      <td>10</td>\n",
       "      <td>mae</td>\n",
       "      <td>0.600261</td>\n",
       "    </tr>\n",
       "    <tr>\n",
       "      <td>1</td>\n",
       "      <td>10</td>\n",
       "      <td>mae</td>\n",
       "      <td>0.450466</td>\n",
       "    </tr>\n",
       "    <tr>\n",
       "      <td>2</td>\n",
       "      <td>10</td>\n",
       "      <td>mae</td>\n",
       "      <td>0.350940</td>\n",
       "    </tr>\n",
       "    <tr>\n",
       "      <td>3</td>\n",
       "      <td>10</td>\n",
       "      <td>mae</td>\n",
       "      <td>0.401105</td>\n",
       "    </tr>\n",
       "    <tr>\n",
       "      <td>4</td>\n",
       "      <td>10</td>\n",
       "      <td>mae</td>\n",
       "      <td>0.376164</td>\n",
       "    </tr>\n",
       "  </tbody>\n",
       "</table>\n",
       "</div>"
      ],
      "text/plain": [
       "    n split       mse\n",
       "0  10   mae  0.600261\n",
       "1  10   mae  0.450466\n",
       "2  10   mae  0.350940\n",
       "3  10   mae  0.401105\n",
       "4  10   mae  0.376164"
      ]
     },
     "execution_count": 7,
     "metadata": {},
     "output_type": "execute_result"
    }
   ],
   "source": [
    "# Convert to dataframe\n",
    "columns = [\"mae\", \"mse\", \"projection_axis\", \"projection_random\"]\n",
    "columns.insert(0, \"n\")\n",
    "df = pd.DataFrame(results, columns=columns)\n",
    "df = pd.melt(df, id_vars=['n'], value_vars=columns[1:], var_name='split', value_name='mse')\n",
    "df[\"mse\"] /= df[\"n\"]\n",
    "df.head()"
   ]
  },
  {
   "cell_type": "code",
   "execution_count": 10,
   "metadata": {},
   "outputs": [
    {
     "data": {
      "image/png": "[encoded data removed]",
      "text/plain": [
       "<Figure size 432x288 with 1 Axes>"
      ]
     },
     "metadata": {
      "needs_background": "light"
     },
     "output_type": "display_data"
    }
   ],
   "source": [
    "with sns.plotting_context(\"talk\", font_scale=1):\n",
    "    \n",
    "    f = sns.lineplot(x=\"n\", y=\"mse\", hue=\"split\", data=df, alpha=0.5)\n",
    "    f.set(xlabel=\"n\", ylabel=\"mse\")"
   ]
  },
  {
   "cell_type": "code",
   "execution_count": null,
   "metadata": {},
   "outputs": [],
   "source": []
  }
 ],
 "metadata": {
  "kernelspec": {
   "display_name": "Python [conda env:tealeaf]",
   "language": "python",
   "name": "conda-env-tealeaf-py"
  },
  "language_info": {
   "codemirror_mode": {
    "name": "ipython",
    "version": 3
   },
   "file_extension": ".py",
   "mimetype": "text/x-python",
   "name": "python",
   "nbconvert_exporter": "python",
   "pygments_lexer": "ipython3",
   "version": "3.7.3"
  },
  "varInspector": {
   "cols": {
    "lenName": 16,
    "lenType": 16,
    "lenVar": 40
   },
   "kernels_config": {
    "python": {
     "delete_cmd_postfix": "",
     "delete_cmd_prefix": "del ",
     "library": "var_list.py",
     "varRefreshCmd": "print(var_dic_list())"
    },
    "r": {
     "delete_cmd_postfix": ") ",
     "delete_cmd_prefix": "rm(",
     "library": "var_list.r",
     "varRefreshCmd": "cat(var_dic_list()) "
    }
   },
   "types_to_exclude": [
    "module",
    "function",
    "builtin_function_or_method",
    "instance",
    "_Feature"
   ],
   "window_display": false
  }
 },
 "nbformat": 4,
 "nbformat_minor": 4
}
