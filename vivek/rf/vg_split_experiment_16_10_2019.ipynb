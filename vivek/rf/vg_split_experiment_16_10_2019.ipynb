{
 "cells": [
  {
   "cell_type": "markdown",
   "metadata": {},
   "source": [
    "# Experiment: What is the best split criteria?\n",
    "\n",
    "Vivek Gopalakrishnan | October 16, 2019"
   ]
  },
  {
   "cell_type": "code",
   "execution_count": 1,
   "metadata": {},
   "outputs": [],
   "source": [
    "import matplotlib.pyplot as plt\n",
    "import numpy as np\n",
    "import pandas as pd\n",
    "import seaborn as sns\n",
    "\n",
    "from rf import RF, RFDecisionNode"
   ]
  },
  {
   "cell_type": "markdown",
   "metadata": {},
   "source": [
    "## Generate synthetic data\n",
    "\n",
    "$$\n",
    "X_i \\sim \\text{MVN}(\\vec{0}, I_2) \\\\\n",
    "Y_i = A_{\\theta}X_i\n",
    "$$\n",
    "where $A_{\\theta}$ is a rotation matrix parameterized by $\\theta$.\n",
    "\n",
    "$D_n = \\{(X_i, y_i)\\}$ for $i=1,\\dots,n$."
   ]
  },
  {
   "cell_type": "code",
   "execution_count": 2,
   "metadata": {},
   "outputs": [],
   "source": [
    "def generate_data(\n",
    "    n=25, \n",
    "    mean=[0, 0], \n",
    "    cov=[[1, 0], [0, 1]],\n",
    "    theta=np.pi/4\n",
    "):\n",
    "    \"\"\"\n",
    "    Generate synthetic data. \n",
    "    X ~iid MVN(u=0, cov=I).\n",
    "    y = AX where A is a rotation matrix.\n",
    "    \"\"\"\n",
    "    \n",
    "    # Rotation matrix\n",
    "    A = [\n",
    "        [np.cos(theta), -np.sin(theta)],\n",
    "        [np.sin(theta), np.cos(theta)]\n",
    "    ]\n",
    "    \n",
    "    # Sample random variables\n",
    "    X = np.random.multivariate_normal(mean, cov, size=n)\n",
    "    y = np.dot(A, X.T)\n",
    "    \n",
    "    return X, y.T"
   ]
  },
  {
   "cell_type": "code",
   "execution_count": 3,
   "metadata": {},
   "outputs": [
    {
     "data": {
      "image/png": "[encoded data removed]",
      "text/plain": [
       "<Figure size 432x288 with 1 Axes>"
      ]
     },
     "metadata": {
      "needs_background": "light"
     },
     "output_type": "display_data"
    }
   ],
   "source": [
    "# Test default parameters\n",
    "\n",
    "X, y = generate_data()\n",
    "\n",
    "plt.scatter(X[:, 0], X[:, 1], c=\"blue\", label=\"X\")\n",
    "plt.scatter(y[:, 0], y[:, 1], c=\"red\", label=\"y\")\n",
    "\n",
    "# Plot lines between matched pairs of points\n",
    "for xi, yi in zip(X, y):\n",
    "    plt.plot(\n",
    "        [xi[0], yi[0]], \n",
    "        [xi[1], yi[1]], \n",
    "        c=\"black\", \n",
    "        alpha = 0.15\n",
    "    )\n",
    "\n",
    "plt.legend()\n",
    "plt.show()"
   ]
  },
  {
   "cell_type": "markdown",
   "metadata": {},
   "source": [
    "## Random Forest\n",
    "\n",
    "Split criteria being tested:\n",
    "\n",
    "1. MAE\n",
    "2. MSE\n",
    "3. Axis projections\n",
    "4. Random projections"
   ]
  },
  {
   "cell_type": "code",
   "execution_count": 4,
   "metadata": {},
   "outputs": [],
   "source": [
    "def predict(rf, X):\n",
    "    \"\"\"\n",
    "    Return predictions for every element in X.\n",
    "    \"\"\"\n",
    "    \n",
    "    yhat = []\n",
    "    for xi in X:\n",
    "        yi = np.mean(rf.predict(xi), axis=0)\n",
    "        yhat.append(yi)\n",
    "        \n",
    "    return np.array(yhat)"
   ]
  },
  {
   "cell_type": "code",
   "execution_count": 5,
   "metadata": {},
   "outputs": [],
   "source": [
    "def measure_mse(X, y, max_depth=10, n_features=1, min_leaf_size=5, n_trees=1000, n_bagging=10):\n",
    "    \"\"\"\n",
    "    Return MSE for each split criteria.\n",
    "    \"\"\"\n",
    "    \n",
    "    # Make a set of default parameters\n",
    "    default = {\n",
    "        \"max_depth\": max_depth, \n",
    "        \"n_features\": n_features, \n",
    "        \"min_leaf_size\": min_leaf_size, \n",
    "        \"n_trees\": n_trees, \n",
    "        \"n_bagging\": n_bagging,\n",
    "    }\n",
    "    \n",
    "    # Iterate over different split criteria\n",
    "    errors = []\n",
    "    for split in [\"mae\", \"mse\", \"projection_axis\", \"projection_random\"]:\n",
    "\n",
    "        # Fit model\n",
    "        rf = RF(X, y, criteria=split, **default)\n",
    "        rf.create_model()\n",
    "\n",
    "        # Make predictions and score\n",
    "        yhat = predict(rf, X)\n",
    "        mse = np.linalg.norm(y-yhat)\n",
    "        errors.append(mse)\n",
    "        \n",
    "    return errors"
   ]
  },
  {
   "cell_type": "code",
   "execution_count": 6,
   "metadata": {},
   "outputs": [
    {
     "data": {
      "text/plain": [
       "[5.200782702048383, 5.19745247775431, 6.604042219674873, 7.258397665853355]"
      ]
     },
     "execution_count": 6,
     "metadata": {},
     "output_type": "execute_result"
    }
   ],
   "source": [
    "# Test functions on sample data\n",
    "measure_mse(X, y)"
   ]
  },
  {
   "cell_type": "markdown",
   "metadata": {},
   "source": [
    "## Simulation\n",
    "\n",
    "Measure the effect of sample size on MSE. Choose $n=10, 20, \\dots, 200$."
   ]
  },
  {
   "cell_type": "code",
   "execution_count": null,
   "metadata": {},
   "outputs": [
    {
     "name": "stdout",
     "output_type": "stream",
     "text": [
      "10 0\n",
      "10 1\n",
      "10 2\n",
      "10 3\n",
      "10 4\n",
      "10 5\n",
      "10 6\n",
      "10 7\n",
      "10 8\n",
      "10 9\n",
      "20 0\n",
      "20 1\n",
      "20 2\n",
      "20 3\n",
      "20 4\n",
      "20 5\n",
      "20 6\n",
      "20 7\n",
      "20 8\n",
      "20 9\n",
      "30 0\n",
      "30 1\n",
      "30 2\n",
      "30 3\n",
      "30 4\n",
      "30 5\n",
      "30 6\n",
      "30 7\n",
      "30 8\n",
      "30 9\n",
      "40 0\n",
      "40 1\n",
      "40 2\n",
      "40 3\n",
      "40 4\n",
      "40 5\n",
      "40 6\n",
      "40 7\n",
      "40 8\n",
      "40 9\n",
      "50 0\n",
      "50 1\n",
      "50 2\n",
      "50 3\n",
      "50 4\n",
      "50 5\n",
      "50 6\n",
      "50 7\n",
      "50 8\n",
      "50 9\n",
      "60 0\n",
      "60 1\n",
      "60 2\n",
      "60 3\n",
      "60 4\n",
      "60 5\n",
      "60 6\n",
      "60 7\n",
      "60 8\n",
      "60 9\n",
      "70 0\n",
      "70 1\n",
      "70 2\n",
      "70 3\n",
      "70 4\n",
      "70 5\n",
      "70 6\n",
      "70 7\n",
      "70 8\n",
      "70 9\n"
     ]
    }
   ],
   "source": [
    "# Run simulation\n",
    "results = []\n",
    "max_n = 201\n",
    "n_iter = 10\n",
    "\n",
    "for n in range(10, max_n, 10):\n",
    "    for i in range(n_iter):\n",
    "        \n",
    "        # Generate sample data\n",
    "        X, y = generate_data(n=n)\n",
    "        \n",
    "        # Measure MSE\n",
    "        mse = measure_mse(X, y)\n",
    "        \n",
    "        # Add to dataframe\n",
    "        mse.insert(0, n)\n",
    "        results.append(mse)\n",
    "        \n",
    "        print(n, i)"
   ]
  },
  {
   "cell_type": "code",
   "execution_count": null,
   "metadata": {},
   "outputs": [],
   "source": [
    "# Convert to dataframe\n",
    "columns = [\"mae\", \"mse\", \"projection_axis\", \"projection_random\"]\n",
    "columns.insert(0, \"n\")\n",
    "df = pd.DataFrame(results, columns=columns)\n",
    "df = pd.melt(df, id_vars=['n'], value_vars=columns[1:], var_name='split', value_name='mse')\n",
    "df[\"mse\"] /= df[\"n\"]\n",
    "df.head()"
   ]
  },
  {
   "cell_type": "code",
   "execution_count": null,
   "metadata": {},
   "outputs": [],
   "source": [
    "with sns.plotting_context(\"talk\", font_scale=1):\n",
    "    \n",
    "    f = sns.lineplot(x=\"n\", y=\"mse\", hue=\"split\", data=df)\n",
    "    f.set(xlabel=\"n\", ylabel=\"mse / n\")"
   ]
  },
  {
   "cell_type": "code",
   "execution_count": null,
   "metadata": {},
   "outputs": [],
   "source": []
  }
 ],
 "metadata": {
  "kernelspec": {
   "display_name": "Python [conda env:tealeaf]",
   "language": "python",
   "name": "conda-env-tealeaf-py"
  },
  "language_info": {
   "codemirror_mode": {
    "name": "ipython",
    "version": 3
   },
   "file_extension": ".py",
   "mimetype": "text/x-python",
   "name": "python",
   "nbconvert_exporter": "python",
   "pygments_lexer": "ipython3",
   "version": "3.7.3"
  }
 },
 "nbformat": 4,
 "nbformat_minor": 4
}
