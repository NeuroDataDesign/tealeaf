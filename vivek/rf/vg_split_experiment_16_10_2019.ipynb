{
 "cells": [
  {
   "cell_type": "markdown",
   "metadata": {},
   "source": [
    "# Experiment: What is the best split criteria?\n",
    "\n",
    "Vivek Gopalakrishnan | October 16, 2019"
   ]
  },
  {
   "cell_type": "code",
   "execution_count": 1,
   "metadata": {},
   "outputs": [],
   "source": [
    "import matplotlib.pyplot as plt\n",
    "import numpy as np\n",
    "import pandas as pd\n",
    "import seaborn as sns\n",
    "\n",
    "from rf import RF, RFDecisionNode"
   ]
  },
  {
   "cell_type": "markdown",
   "metadata": {},
   "source": [
    "## Generate synthetic data\n",
    "\n",
    "$$\n",
    "X_i \\sim \\text{MVN}(\\vec{0}, I_2) \\\\\n",
    "Y_i = A_{\\theta}X_i\n",
    "$$\n",
    "where $A_{\\theta}$ is a rotation matrix parameterized by $\\theta$.\n",
    "\n",
    "$D_n = \\{(X_i, y_i)\\}$ for $i=1,\\dots,n$."
   ]
  },
  {
   "cell_type": "code",
   "execution_count": 2,
   "metadata": {},
   "outputs": [],
   "source": [
    "def generate_data(\n",
    "    n=25, \n",
    "    mean=[0, 0], \n",
    "    cov=[[1, 0], [0, 1]],\n",
    "    theta=np.pi/4\n",
    "):\n",
    "    \"\"\"\n",
    "    Generate synthetic data. \n",
    "    X ~iid MVN(u=0, cov=I).\n",
    "    y = AX where A is a rotation matrix.\n",
    "    \"\"\"\n",
    "    \n",
    "    # Rotation matrix\n",
    "    A = [\n",
    "        [np.cos(theta), -np.sin(theta)],\n",
    "        [np.sin(theta), np.cos(theta)]\n",
    "    ]\n",
    "    \n",
    "    # Sample random variables\n",
    "    X = np.random.multivariate_normal(mean, cov, size=n)\n",
    "    y = np.dot(A, X.T)\n",
    "    \n",
    "    return X, y.T"
   ]
  },
  {
   "cell_type": "code",
   "execution_count": 3,
   "metadata": {},
   "outputs": [
    {
     "data": {
      "image/png": "[encoded data removed]",
      "text/plain": [
       "<Figure size 432x288 with 1 Axes>"
      ]
     },
     "metadata": {
      "needs_background": "light"
     },
     "output_type": "display_data"
    }
   ],
   "source": [
    "# Test default parameters\n",
    "\n",
    "X, y = generate_data()\n",
    "\n",
    "plt.scatter(X[:, 0], X[:, 1], c=\"blue\", label=\"X\")\n",
    "plt.scatter(y[:, 0], y[:, 1], c=\"red\", label=\"y\")\n",
    "\n",
    "# Plot lines between matched pairs of points\n",
    "for xi, yi in zip(X, y):\n",
    "    plt.plot(\n",
    "        [xi[0], yi[0]], \n",
    "        [xi[1], yi[1]], \n",
    "        c=\"black\", \n",
    "        alpha = 0.15\n",
    "    )\n",
    "\n",
    "plt.legend()\n",
    "plt.show()"
   ]
  },
  {
   "cell_type": "markdown",
   "metadata": {},
   "source": [
    "## Random Forest\n",
    "\n",
    "Split criteria being tested:\n",
    "\n",
    "1. MAE\n",
    "2. MSE\n",
    "3. Axis projections\n",
    "4. Random projections"
   ]
  },
  {
   "cell_type": "code",
   "execution_count": 4,
   "metadata": {},
   "outputs": [],
   "source": [
    "def predict(rf, X):\n",
    "    \"\"\"\n",
    "    Return predictions for every element in X.\n",
    "    \"\"\"\n",
    "    \n",
    "    yhat = []\n",
    "    for xi in X:\n",
    "        yi = np.mean(rf.predict(xi), axis=0)\n",
    "        yhat.append(yi)\n",
    "        \n",
    "    return np.array(yhat)"
   ]
  },
  {
   "cell_type": "code",
   "execution_count": 5,
   "metadata": {},
   "outputs": [],
   "source": [
    "def measure_mse(X, y, max_depth=10, n_features=1, min_leaf_size=5, n_trees=1000, n_bagging=10):\n",
    "    \"\"\"\n",
    "    Return MSE for each split criteria.\n",
    "    \"\"\"\n",
    "    \n",
    "    # Make a set of default parameters\n",
    "    default = {\n",
    "        \"max_depth\": max_depth, \n",
    "        \"n_features\": n_features, \n",
    "        \"min_leaf_size\": min_leaf_size, \n",
    "        \"n_trees\": n_trees, \n",
    "        \"n_bagging\": n_bagging,\n",
    "    }\n",
    "    \n",
    "    # Iterate over different split criteria\n",
    "    errors = []\n",
    "    for split in [\"mae\", \"mse\", \"projection_axis\", \"projection_random\"]:\n",
    "\n",
    "        # Fit model\n",
    "        rf = RF(X, y, criteria=split, **default)\n",
    "        rf.create_model()\n",
    "\n",
    "        # Make predictions and score\n",
    "        yhat = predict(rf, X)\n",
    "        mse = np.linalg.norm(y-yhat)\n",
    "        errors.append(mse)\n",
    "        \n",
    "    return errors"
   ]
  },
  {
   "cell_type": "code",
   "execution_count": 6,
   "metadata": {},
   "outputs": [
    {
     "data": {
      "text/plain": [
       "[5.200782702048383, 5.19745247775431, 6.604042219674873, 7.258397665853355]"
      ]
     },
     "execution_count": 6,
     "metadata": {},
     "output_type": "execute_result"
    }
   ],
   "source": [
    "# Test functions on sample data\n",
    "measure_mse(X, y)"
   ]
  },
  {
   "cell_type": "markdown",
   "metadata": {},
   "source": [
    "## Simulation\n",
    "\n",
    "Measure the effect of sample size on MSE. Choose $n=10, 20, \\dots, 200$."
   ]
  },
  {
   "cell_type": "code",
   "execution_count": 7,
   "metadata": {},
   "outputs": [
    {
     "name": "stdout",
     "output_type": "stream",
     "text": [
      "10 0\n",
      "10 1\n",
      "10 2\n",
      "10 3\n",
      "10 4\n",
      "10 5\n",
      "10 6\n",
      "10 7\n",
      "10 8\n",
      "10 9\n",
      "20 0\n",
      "20 1\n",
      "20 2\n",
      "20 3\n",
      "20 4\n",
      "20 5\n",
      "20 6\n",
      "20 7\n",
      "20 8\n",
      "20 9\n",
      "30 0\n",
      "30 1\n",
      "30 2\n",
      "30 3\n",
      "30 4\n",
      "30 5\n",
      "30 6\n",
      "30 7\n",
      "30 8\n",
      "30 9\n",
      "40 0\n",
      "40 1\n",
      "40 2\n",
      "40 3\n",
      "40 4\n",
      "40 5\n",
      "40 6\n",
      "40 7\n",
      "40 8\n",
      "40 9\n",
      "50 0\n",
      "50 1\n",
      "50 2\n",
      "50 3\n",
      "50 4\n",
      "50 5\n",
      "50 6\n",
      "50 7\n",
      "50 8\n",
      "50 9\n",
      "60 0\n",
      "60 1\n",
      "60 2\n",
      "60 3\n",
      "60 4\n",
      "60 5\n",
      "60 6\n",
      "60 7\n",
      "60 8\n",
      "60 9\n",
      "70 0\n",
      "70 1\n",
      "70 2\n",
      "70 3\n",
      "70 4\n",
      "70 5\n",
      "70 6\n",
      "70 7\n",
      "70 8\n",
      "70 9\n",
      "80 0\n",
      "80 1\n",
      "80 2\n",
      "80 3\n",
      "80 4\n",
      "80 5\n",
      "80 6\n",
      "80 7\n",
      "80 8\n",
      "80 9\n",
      "90 0\n",
      "90 1\n",
      "90 2\n",
      "90 3\n",
      "90 4\n",
      "90 5\n",
      "90 6\n",
      "90 7\n",
      "90 8\n",
      "90 9\n",
      "100 0\n",
      "100 1\n",
      "100 2\n",
      "100 3\n",
      "100 4\n",
      "100 5\n",
      "100 6\n",
      "100 7\n",
      "100 8\n",
      "100 9\n",
      "110 0\n",
      "110 1\n",
      "110 2\n",
      "110 3\n",
      "110 4\n",
      "110 5\n",
      "110 6\n",
      "110 7\n",
      "110 8\n",
      "110 9\n",
      "120 0\n",
      "120 1\n",
      "120 2\n",
      "120 3\n",
      "120 4\n",
      "120 5\n",
      "120 6\n",
      "120 7\n",
      "120 8\n",
      "120 9\n",
      "130 0\n",
      "130 1\n",
      "130 2\n",
      "130 3\n",
      "130 4\n",
      "130 5\n",
      "130 6\n",
      "130 7\n",
      "130 8\n",
      "130 9\n",
      "140 0\n",
      "140 1\n",
      "140 2\n",
      "140 3\n",
      "140 4\n",
      "140 5\n",
      "140 6\n",
      "140 7\n",
      "140 8\n",
      "140 9\n",
      "150 0\n",
      "150 1\n",
      "150 2\n",
      "150 3\n",
      "150 4\n",
      "150 5\n",
      "150 6\n",
      "150 7\n",
      "150 8\n",
      "150 9\n",
      "160 0\n",
      "160 1\n",
      "160 2\n",
      "160 3\n",
      "160 4\n",
      "160 5\n",
      "160 6\n",
      "160 7\n",
      "160 8\n",
      "160 9\n",
      "170 0\n",
      "170 1\n",
      "170 2\n",
      "170 3\n",
      "170 4\n",
      "170 5\n",
      "170 6\n",
      "170 7\n",
      "170 8\n",
      "170 9\n",
      "180 0\n",
      "180 1\n",
      "180 2\n",
      "180 3\n",
      "180 4\n",
      "180 5\n",
      "180 6\n",
      "180 7\n",
      "180 8\n",
      "180 9\n",
      "190 0\n",
      "190 1\n",
      "190 2\n",
      "190 3\n",
      "190 4\n",
      "190 5\n",
      "190 6\n",
      "190 7\n",
      "190 8\n",
      "190 9\n",
      "200 0\n",
      "200 1\n",
      "200 2\n",
      "200 3\n",
      "200 4\n",
      "200 5\n",
      "200 6\n",
      "200 7\n",
      "200 8\n",
      "200 9\n"
     ]
    }
   ],
   "source": [
    "# Run simulation\n",
    "results = []\n",
    "max_n = 201\n",
    "n_iter = 10\n",
    "\n",
    "for n in range(10, max_n, 10):\n",
    "    for i in range(n_iter):\n",
    "        \n",
    "        # Generate sample data\n",
    "        X, y = generate_data(n=n)\n",
    "        \n",
    "        # Measure MSE\n",
    "        mse = measure_mse(X, y)\n",
    "        \n",
    "        # Add to dataframe\n",
    "        mse.insert(0, n)\n",
    "        results.append(mse)\n",
    "        \n",
    "        print(n, i)"
   ]
  },
  {
   "cell_type": "code",
   "execution_count": 8,
   "metadata": {},
   "outputs": [
    {
     "data": {
      "text/html": [
       "<div>\n",
       "<style scoped>\n",
       "    .dataframe tbody tr th:only-of-type {\n",
       "        vertical-align: middle;\n",
       "    }\n",
       "\n",
       "    .dataframe tbody tr th {\n",
       "        vertical-align: top;\n",
       "    }\n",
       "\n",
       "    .dataframe thead th {\n",
       "        text-align: right;\n",
       "    }\n",
       "</style>\n",
       "<table border=\"1\" class=\"dataframe\">\n",
       "  <thead>\n",
       "    <tr style=\"text-align: right;\">\n",
       "      <th></th>\n",
       "      <th>n</th>\n",
       "      <th>split</th>\n",
       "      <th>mse</th>\n",
       "    </tr>\n",
       "  </thead>\n",
       "  <tbody>\n",
       "    <tr>\n",
       "      <td>0</td>\n",
       "      <td>10</td>\n",
       "      <td>mae</td>\n",
       "      <td>0.268900</td>\n",
       "    </tr>\n",
       "    <tr>\n",
       "      <td>1</td>\n",
       "      <td>10</td>\n",
       "      <td>mae</td>\n",
       "      <td>0.297981</td>\n",
       "    </tr>\n",
       "    <tr>\n",
       "      <td>2</td>\n",
       "      <td>10</td>\n",
       "      <td>mae</td>\n",
       "      <td>0.337092</td>\n",
       "    </tr>\n",
       "    <tr>\n",
       "      <td>3</td>\n",
       "      <td>10</td>\n",
       "      <td>mae</td>\n",
       "      <td>0.248865</td>\n",
       "    </tr>\n",
       "    <tr>\n",
       "      <td>4</td>\n",
       "      <td>10</td>\n",
       "      <td>mae</td>\n",
       "      <td>0.313796</td>\n",
       "    </tr>\n",
       "  </tbody>\n",
       "</table>\n",
       "</div>"
      ],
      "text/plain": [
       "    n split       mse\n",
       "0  10   mae  0.268900\n",
       "1  10   mae  0.297981\n",
       "2  10   mae  0.337092\n",
       "3  10   mae  0.248865\n",
       "4  10   mae  0.313796"
      ]
     },
     "execution_count": 8,
     "metadata": {},
     "output_type": "execute_result"
    }
   ],
   "source": [
    "# Convert to dataframe\n",
    "columns = [\"mae\", \"mse\", \"projection_axis\", \"projection_random\"]\n",
    "columns.insert(0, \"n\")\n",
    "df = pd.DataFrame(results, columns=columns)\n",
    "df = pd.melt(df, id_vars=['n'], value_vars=columns[1:], var_name='split', value_name='mse')\n",
    "df[\"mse\"] /= df[\"n\"]\n",
    "df.head()"
   ]
  },
  {
   "cell_type": "code",
   "execution_count": 9,
   "metadata": {},
   "outputs": [
    {
     "data": {
      "image/png": "[encoded data removed]",
      "text/plain": [
       "<Figure size 432x288 with 1 Axes>"
      ]
     },
     "metadata": {
      "needs_background": "light"
     },
     "output_type": "display_data"
    }
   ],
   "source": [
    "with sns.plotting_context(\"talk\", font_scale=1):\n",
    "    \n",
    "    f = sns.lineplot(x=\"n\", y=\"mse\", hue=\"split\", data=df)\n",
    "    f.set(xlabel=\"n\", ylabel=\"mse / n\")"
   ]
  },
  {
   "cell_type": "code",
   "execution_count": null,
   "metadata": {},
   "outputs": [],
   "source": []
  }
 ],
 "metadata": {
  "kernelspec": {
   "display_name": "tealeaf",
   "language": "python",
   "name": "tealeaf"
  },
  "language_info": {
   "codemirror_mode": {
    "name": "ipython",
    "version": 3
   },
   "file_extension": ".py",
   "mimetype": "text/x-python",
   "name": "python",
   "nbconvert_exporter": "python",
   "pygments_lexer": "ipython3",
   "version": "3.7.3"
  },
  "varInspector": {
   "cols": {
    "lenName": 16,
    "lenType": 16,
    "lenVar": 40
   },
   "kernels_config": {
    "python": {
     "delete_cmd_postfix": "",
     "delete_cmd_prefix": "del ",
     "library": "var_list.py",
     "varRefreshCmd": "print(var_dic_list())"
    },
    "r": {
     "delete_cmd_postfix": ") ",
     "delete_cmd_prefix": "rm(",
     "library": "var_list.r",
     "varRefreshCmd": "cat(var_dic_list()) "
    }
   },
   "types_to_exclude": [
    "module",
    "function",
    "builtin_function_or_method",
    "instance",
    "_Feature"
   ],
   "window_display": false
  }
 },
 "nbformat": 4,
 "nbformat_minor": 4
}
