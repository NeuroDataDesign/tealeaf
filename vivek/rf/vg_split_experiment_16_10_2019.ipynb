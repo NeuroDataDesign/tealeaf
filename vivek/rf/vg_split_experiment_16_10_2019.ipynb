{
 "cells": [
  {
   "cell_type": "markdown",
   "metadata": {},
   "source": [
    "# Experiment: What is the best split criteria for RF Regression?\n",
    "\n",
    "Vivek Gopalakrishnan | October 28, 2019\n",
    "\n",
    "\n",
    "## My Random Forest setup\n",
    "\n",
    "Split criteria being tested:\n",
    "\n",
    "1. Mean Absolute Error (MAE)\n",
    "2. Mean Squared Error (MSE)\n",
    "3. Axis projections\n",
    "4. Random projections\n",
    "\n",
    "\n",
    "## My sampling model for synthetic data\n",
    "\n",
    "Input data is sampled from a $d$-dimensional multivariate normal (MVN) and the output data is a random rotation of the input data.\n",
    "\n",
    "Specifically,\n",
    "$$\n",
    "X_i \\sim \\text{MVN}\\left(\\mu, I_d\\right) \\,, y_i = AX_i \\\\\n",
    "\\mathcal{D}_n = \\left\\{(X_i, y_i)\\right\\} \\text{ for } i=1,\\dots,n\n",
    "$$\n",
    "where $A$ is a random rotation matrix sampled according to [the Haar distribution](http://scipy.github.io/devdocs/generated/scipy.stats.ortho_group.html) and $d$ is the number of simulated features.\n",
    "\n",
    "\n",
    "## What simulations are run in this notebook?\n",
    "\n",
    "Simulation parameters are `(n_samples, n_dim)`. I run the following simulations:\n",
    "\n",
    "1. Increase `n_samples`, fix `n_dim=2`\n",
    "2. Increase `n_dim`, fix `n_samples=50`"
   ]
  },
  {
   "cell_type": "code",
   "execution_count": null,
   "metadata": {},
   "outputs": [],
   "source": [
    "import matplotlib.pyplot as plt\n",
    "import pandas as pd\n",
    "import seaborn as sns\n",
    "\n",
    "from simulation import generate_linear_data, measure_mse"
   ]
  },
  {
   "cell_type": "code",
   "execution_count": null,
   "metadata": {},
   "outputs": [],
   "source": [
    "%load_ext autoreload\n",
    "%autoreload 2"
   ]
  },
  {
   "cell_type": "markdown",
   "metadata": {},
   "source": [
    "## Demo of simulation functions\n",
    "\n",
    "The module `simulation` provides two functions:\n",
    "1. `generate_linear_data`: sample data according to the model above\n",
    "2. `measure_mse`: for a given set of sample data, measure the MSE for all split criteria"
   ]
  },
  {
   "cell_type": "code",
   "execution_count": null,
   "metadata": {},
   "outputs": [],
   "source": [
    "# Test data generation function\n",
    "X, y = generate_linear_data(n_samples=25, n_dim=2, scale=0.1)\n",
    "\n",
    "# Plot synthetic data\n",
    "plt.scatter(X[:, 0], X[:, 1], c=\"blue\", label=\"X\")\n",
    "plt.scatter(y[:, 0], y[:, 1], c=\"red\", label=\"y\")\n",
    "\n",
    "# Plot lines between matched pairs of points\n",
    "for xi, yi in zip(X, y):\n",
    "    plt.plot(\n",
    "        [xi[0], yi[0]], \n",
    "        [xi[1], yi[1]], \n",
    "        c=\"black\", \n",
    "        alpha = 0.15\n",
    "    )\n",
    "\n",
    "plt.legend()\n",
    "plt.show()"
   ]
  },
  {
   "cell_type": "code",
   "execution_count": null,
   "metadata": {},
   "outputs": [],
   "source": [
    "# Test MSE measuring function\n",
    "measure_mse(X, y)"
   ]
  },
  {
   "cell_type": "markdown",
   "metadata": {},
   "source": [
    "## Simulation\n",
    "\n",
    "Run simulation with `python simulation.py`. Analyzed results are below."
   ]
  },
  {
   "cell_type": "markdown",
   "metadata": {},
   "source": [
    "### Simulation 1: Increasing dimensionality\n",
    "\n",
    "- `n_samples = 75`\n",
    "- `n_dim = [2, 3, 4, ..., 40]`"
   ]
  },
  {
   "cell_type": "code",
   "execution_count": null,
   "metadata": {},
   "outputs": [],
   "source": [
    "df = pd.read_csv(\"results/simulation_1.csv\", index_col=\"Unnamed: 0\")\n",
    "df.head()"
   ]
  },
  {
   "cell_type": "code",
   "execution_count": null,
   "metadata": {},
   "outputs": [],
   "source": [
    "fig, ax = plt.subplots(dpi=300)    \n",
    "f = sns.lineplot(x=\"n_dim\", y=\"mse\", hue=\"split\", data=df, ci=None, alpha=0.5, ax=ax)\n",
    "f.set(xlabel=\"n_dim\", ylabel=\"mse\")"
   ]
  },
  {
   "cell_type": "markdown",
   "metadata": {},
   "source": [
    "### Simulation 2: Increased noise\n",
    "\n",
    "- `n_samples = 30`\n",
    "- `n_dim = [3, 30]`\n",
    "- `sigma = np.linspace(0, 10, 50)`"
   ]
  },
  {
   "cell_type": "code",
   "execution_count": null,
   "metadata": {},
   "outputs": [],
   "source": [
    "df = pd.read_csv(\"results/simulation_2.csv\", index_col=\"Unnamed: 0\")\n",
    "df.head()"
   ]
  },
  {
   "cell_type": "code",
   "execution_count": null,
   "metadata": {},
   "outputs": [],
   "source": [
    "fig, ax = plt.subplots(dpi=300)    \n",
    "f = sns.lineplot(x=\"scale\", y=\"mse\", hue=\"split\", data=df, ci=None, alpha=0.5, ax=ax)\n",
    "f.set(xlabel=r\"$\\sigma$\", ylabel=\"mse\")"
   ]
  },
  {
   "cell_type": "code",
   "execution_count": null,
   "metadata": {},
   "outputs": [],
   "source": []
  }
 ],
 "metadata": {
  "kernelspec": {
   "display_name": "Python [conda env:tealeaf]",
   "language": "python",
   "name": "conda-env-tealeaf-py"
  },
  "language_info": {
   "codemirror_mode": {
    "name": "ipython",
    "version": 3
   },
   "file_extension": ".py",
   "mimetype": "text/x-python",
   "name": "python",
   "nbconvert_exporter": "python",
   "pygments_lexer": "ipython3",
   "version": "3.7.3"
  },
  "varInspector": {
   "cols": {
    "lenName": 16,
    "lenType": 16,
    "lenVar": 40
   },
   "kernels_config": {
    "python": {
     "delete_cmd_postfix": "",
     "delete_cmd_prefix": "del ",
     "library": "var_list.py",
     "varRefreshCmd": "print(var_dic_list())"
    },
    "r": {
     "delete_cmd_postfix": ") ",
     "delete_cmd_prefix": "rm(",
     "library": "var_list.r",
     "varRefreshCmd": "cat(var_dic_list()) "
    }
   },
   "types_to_exclude": [
    "module",
    "function",
    "builtin_function_or_method",
    "instance",
    "_Feature"
   ],
   "window_display": false
  }
 },
 "nbformat": 4,
 "nbformat_minor": 4
}
