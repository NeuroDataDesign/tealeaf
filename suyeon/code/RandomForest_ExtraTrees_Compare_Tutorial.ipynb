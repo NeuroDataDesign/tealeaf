{
 "cells": [
  {
   "cell_type": "markdown",
   "metadata": {},
   "source": [
    "### Import statements"
   ]
  },
  {
   "cell_type": "code",
   "execution_count": 2,
   "metadata": {},
   "outputs": [],
   "source": [
    "import openml\n",
    "import sklearn\n",
    "from sklearn.ensemble import RandomForestClassifier\n",
    "from sklearn.metrics import accuracy_score\n",
    "from datetime import datetime\n",
    "import matplotlib.pyplot as plt\n",
    "import numpy as np\n",
    "import pandas as pd\n",
    "import seaborn as sns\n",
    "\n",
    "import warnings\n",
    "warnings.filterwarnings('ignore')"
   ]
  },
  {
   "cell_type": "markdown",
   "metadata": {},
   "source": [
    "### Load in datasets"
   ]
  },
  {
   "cell_type": "code",
   "execution_count": 3,
   "metadata": {},
   "outputs": [],
   "source": [
    "benchmark_suite_CC18 = openml.study.get_suite('OpenML-CC18')  # obtain the benchmark suite\n",
    "benchmark_suite_100 = openml.study.get_suite('OpenML100')  # obtain the benchmark suite"
   ]
  },
  {
   "cell_type": "markdown",
   "metadata": {},
   "source": [
    "### Benchmark RandomForestClassifier and ExtraTreesClassifier with _default parameters_\n",
    "\n",
    "#### The following sections use the OpenML CC-18 and 100 suites and classifies each dataset using the sklearn's RandomForest classifier and ExtraTrees classifier with default parameters. The task IDs, accuracies, and runtimes of each dataset are compiled into .txt files for later analysis"
   ]
  },
  {
   "cell_type": "markdown",
   "metadata": {},
   "source": [
    "### RFClassifier"
   ]
  },
  {
   "cell_type": "markdown",
   "metadata": {},
   "source": [
    "##### Build the scikit-learn ExtraTrees classifier"
   ]
  },
  {
   "cell_type": "code",
   "execution_count": 8,
   "metadata": {},
   "outputs": [],
   "source": [
    "clf = sklearn.pipeline.make_pipeline(sklearn.preprocessing.Imputer(),\n",
    "                                     sklearn.ensemble.RandomForestClassifier())"
   ]
  },
  {
   "cell_type": "markdown",
   "metadata": {},
   "source": [
    "##### RF using OpenML CC-18"
   ]
  },
  {
   "cell_type": "code",
   "execution_count": null,
   "metadata": {},
   "outputs": [],
   "source": [
    "for task_id in benchmark_suite_CC18.tasks:  # iterate over all tasks\n",
    "    try:\n",
    "        f = open(\"RF_accuracies_CC-18_21020.txt\",\"a\")\n",
    "        startTime = datetime.now()\n",
    "        task = openml.tasks.get_task(task_id) # download the OpenML task\n",
    "        openml.config.apikey = 'c9ea8896542dd998ea42685f14e2bc14'  # set the OpenML Api Key\n",
    "        run = openml.runs.run_model_on_task(clf, task) # run classifier on splits (requires API key)\n",
    "        score = run.get_metric_fn(sklearn.metrics.accuracy_score) # print accuracy score\n",
    "        print('Data set: %s; Accuracy: %0.2f' % (task.get_dataset().name,score.mean()))\n",
    "        print('Time: '+ str(datetime.now() - startTime))\n",
    "        f.write('%i,%s,%0.4f,%s,\\n' % (task_id,task.get_dataset().name,score.mean(),str(datetime.now() - startTime)))\n",
    "        f.close()\n",
    "    except:\n",
    "        print('Error in' + str(task_id))"
   ]
  },
  {
   "cell_type": "markdown",
   "metadata": {},
   "source": [
    "##### RF using OpenML 100"
   ]
  },
  {
   "cell_type": "code",
   "execution_count": null,
   "metadata": {},
   "outputs": [],
   "source": [
    "for task_id in benchmark_suite_100.tasks:  # iterate over all tasks\n",
    "    try:\n",
    "        f = open(\"RF_accuracies_100_21020.txt\",\"a\")\n",
    "        startTime = datetime.now()\n",
    "        task = openml.tasks.get_task(task_id) # download the OpenML task\n",
    "        openml.config.apikey = 'c9ea8896542dd998ea42685f14e2bc14'  # set the OpenML Api Key\n",
    "        run = openml.runs.run_model_on_task(clf, task) # run classifier on splits (requires API key)\n",
    "        score = run.get_metric_fn(sklearn.metrics.accuracy_score) # print accuracy score\n",
    "        print('Data set: %s; Accuracy: %0.2f' % (task.get_dataset().name,score.mean()))\n",
    "        print('Time: '+ str(datetime.now() - startTime))\n",
    "        f.write('%i,%s,%0.4f,%s,\\n' % (task_id,task.get_dataset().name,score.mean(),str(datetime.now() - startTime)))\n",
    "        f.close()\n",
    "    except:\n",
    "        print('Error in' + str(task_id))"
   ]
  },
  {
   "cell_type": "markdown",
   "metadata": {},
   "source": [
    "### ExtraTrees Classifier\n",
    "##### Build the scikit-learn ExtraTrees classifier"
   ]
  },
  {
   "cell_type": "code",
   "execution_count": 9,
   "metadata": {},
   "outputs": [],
   "source": [
    "clf = sklearn.pipeline.make_pipeline(sklearn.preprocessing.Imputer(),\n",
    "                                     sklearn.ensemble.ExtraTreesClassifier())"
   ]
  },
  {
   "cell_type": "markdown",
   "metadata": {},
   "source": [
    "##### ET using OpenML CC-18"
   ]
  },
  {
   "cell_type": "code",
   "execution_count": null,
   "metadata": {},
   "outputs": [],
   "source": [
    "for task_id in benchmark_suite_CC18.tasks:  # iterate over all tasks\n",
    "    try:\n",
    "        f = open(\"ET_accuracies_CC-18_21020.txt\",\"a\")\n",
    "        startTime = datetime.now()\n",
    "        task = openml.tasks.get_task(task_id) # download the OpenML task\n",
    "        openml.config.apikey = 'c9ea8896542dd998ea42685f14e2bc14'  # set the OpenML Api Key\n",
    "        run = openml.runs.run_model_on_task(clf, task) # run classifier on splits (requires API key)\n",
    "        score = run.get_metric_fn(sklearn.metrics.accuracy_score) # print accuracy score\n",
    "        print('Data set: %s; Accuracy: %0.2f' % (task.get_dataset().name,score.mean()))\n",
    "        print('Time: '+ str(datetime.now() - startTime))\n",
    "        f.write('%i,%s,%0.4f,%s,\\n' % (task_id,task.get_dataset().name,score.mean(),str(datetime.now() - startTime)))\n",
    "        f.close()\n",
    "    except:\n",
    "        print('Error in' + str(task_id))"
   ]
  },
  {
   "cell_type": "markdown",
   "metadata": {},
   "source": [
    "##### ET using OpenML 100"
   ]
  },
  {
   "cell_type": "code",
   "execution_count": null,
   "metadata": {},
   "outputs": [],
   "source": [
    "for task_id in benchmark_suite_100.tasks:  # iterate over all tasks\n",
    "    try:\n",
    "        f = open(\"ET_accuracies_100_21020.txt\",\"a\")\n",
    "        startTime = datetime.now()\n",
    "        task = openml.tasks.get_task(task_id) # download the OpenML task\n",
    "        openml.config.apikey = 'c9ea8896542dd998ea42685f14e2bc14'  # set the OpenML Api Key\n",
    "        run = openml.runs.run_model_on_task(clf, task) # run classifier on splits (requires API key)\n",
    "        score = run.get_metric_fn(sklearn.metrics.accuracy_score) # print accuracy score\n",
    "        print('Data set: %s; Accuracy: %0.2f' % (task.get_dataset().name,score.mean()))\n",
    "        print('Time: '+ str(datetime.now() - startTime))\n",
    "        f.write('%i,%s,%0.4f,%s,\\n' % (task_id,task.get_dataset().name,score.mean(),str(datetime.now() - startTime)))\n",
    "        f.close()\n",
    "    except:\n",
    "        print('Error in' + str(task_id))"
   ]
  },
  {
   "cell_type": "markdown",
   "metadata": {},
   "source": [
    "### Compare accuracies and runtimes between RF and ET classifiers\n",
    "\n",
    "#### The following sections compare the compiled accuracy and runtime results of both classifiers on the OpenML CC-18 and 100 suites. The accuracies and runtimes of each dataset are plotted against the dataset's number of features and number of samples."
   ]
  },
  {
   "cell_type": "markdown",
   "metadata": {},
   "source": [
    "### Load in dataset properties, accuracies, and runtimes"
   ]
  },
  {
   "cell_type": "markdown",
   "metadata": {},
   "source": [
    "##### Obtain the properties of datasets in Open ML CC-18"
   ]
  },
  {
   "cell_type": "code",
   "execution_count": 4,
   "metadata": {},
   "outputs": [],
   "source": [
    "dimen_CC18 = [] # for all datasets: number of samples (column 0), number of features (column 1) \n",
    "\n",
    "for task_id in benchmark_suite_CC18.tasks:  # iterate over all tasks\n",
    "    try:\n",
    "        task = openml.tasks.get_task(task_id)  # download the OpenML task\n",
    "        features_CC18, targets_CC18 = task.get_X_and_y()  # load in dataset properties\n",
    "        dimen_CC18.append(np.shape(features_CC18)) # compile all feature and sample numbers\n",
    "    except:\n",
    "        print('Error in OpenML CC-18 dataset ' + str(task_id)) # print task id of erring datasets"
   ]
  },
  {
   "cell_type": "markdown",
   "metadata": {},
   "source": [
    "##### Obtain the properties of datasets in Open ML 100"
   ]
  },
  {
   "cell_type": "code",
   "execution_count": 5,
   "metadata": {},
   "outputs": [
    {
     "name": "stdout",
     "output_type": "stream",
     "text": [
      "Error in OpenML 100 dataset 34536\n"
     ]
    }
   ],
   "source": [
    "dimen_100 = [] # for all datasets: number of samples (column 0), number of features (column 1)\n",
    "\n",
    "for task_id in benchmark_suite_100.tasks:  # iterate over all tasks\n",
    "    try:\n",
    "        task = openml.tasks.get_task(task_id)  # download the OpenML task\n",
    "        features_100, targets_100 = task.get_X_and_y()  # load in dataset properties\n",
    "        dimen_100.append(np.shape(features_100)) # compile all feature and sample numbers\n",
    "    except:\n",
    "        print('Error in OpenML 100 dataset ' + str(task_id)) # print task id of erring datasets"
   ]
  },
  {
   "cell_type": "markdown",
   "metadata": {},
   "source": [
    "##### Read in RF accuracies of OpenML CC-18 datasets"
   ]
  },
  {
   "cell_type": "code",
   "execution_count": 6,
   "metadata": {},
   "outputs": [
    {
     "name": "stdout",
     "output_type": "stream",
     "text": [
      "(72,)\n"
     ]
    }
   ],
   "source": [
    "acc_RF_CC18 = open('RF_accuracies_CC-18_21020.txt','r')\n",
    "\n",
    "RF_taskID_CC18 = []\n",
    "RF_name_CC18 = []\n",
    "RF_accuracy_CC18 = []\n",
    "RF_time_CC18 = []\n",
    "\n",
    "for line in acc_RF_CC18:\n",
    "    fields = line.split(',')\n",
    "    RF_taskID_CC18.append(fields[0])\n",
    "    RF_name_CC18.append(fields[1])\n",
    "    RF_accuracy_CC18.append(float(fields[2]))\n",
    "    RF_time_CC18.append(fields[3])\n",
    "\n",
    "print(np.shape(RF_accuracy_CC18))"
   ]
  },
  {
   "cell_type": "markdown",
   "metadata": {},
   "source": [
    "##### Read in RF accuracies of OpenML 100 datasets"
   ]
  },
  {
   "cell_type": "code",
   "execution_count": 7,
   "metadata": {},
   "outputs": [
    {
     "name": "stdout",
     "output_type": "stream",
     "text": [
      "(99,)\n"
     ]
    }
   ],
   "source": [
    "acc_RF_100 = open('RF_accuracies_100_21020.txt','r')\n",
    "\n",
    "RF_taskID_100 = []\n",
    "RF_name_100 = []\n",
    "RF_accuracy_100 = []\n",
    "RF_time_100 = []\n",
    "\n",
    "for line in acc_RF_100:\n",
    "    fields = line.split(',')\n",
    "    RF_taskID_100.append(fields[0])\n",
    "    RF_name_100.append(fields[1])\n",
    "    RF_accuracy_100.append(float(fields[2]))\n",
    "    RF_time_100.append(fields[3])\n",
    "\n",
    "print(np.shape(RF_accuracy_100))"
   ]
  },
  {
   "cell_type": "markdown",
   "metadata": {},
   "source": [
    "##### Read in ET accuracies of OpenML CC-18 datasets"
   ]
  },
  {
   "cell_type": "code",
   "execution_count": 8,
   "metadata": {},
   "outputs": [
    {
     "name": "stdout",
     "output_type": "stream",
     "text": [
      "(72,)\n"
     ]
    }
   ],
   "source": [
    "acc_ET_CC18 = open('ET_accuracies_CC-18_21020.txt','r')\n",
    "\n",
    "ET_taskID_CC18 = []\n",
    "ET_name_CC18 = []\n",
    "ET_accuracy_CC18 = []\n",
    "ET_time_CC18 = []\n",
    "    \n",
    "for line in acc_ET_CC18:\n",
    "    fields = line.split(',')\n",
    "    ET_taskID_CC18.append(fields[0])\n",
    "    ET_name_CC18.append(fields[1])\n",
    "    ET_accuracy_CC18.append(float(fields[2]))\n",
    "    ET_time_CC18.append(fields[3])\n",
    "\n",
    "print(np.shape(ET_accuracy_CC18))"
   ]
  },
  {
   "cell_type": "markdown",
   "metadata": {},
   "source": [
    "##### Read in ET accuracies of OpenML 100 datasets"
   ]
  },
  {
   "cell_type": "code",
   "execution_count": 9,
   "metadata": {},
   "outputs": [
    {
     "name": "stdout",
     "output_type": "stream",
     "text": [
      "(99,)\n"
     ]
    }
   ],
   "source": [
    "acc_ET_100 = open('ET_accuracies_100_21020.txt','r')\n",
    "\n",
    "ET_taskID_100 = []\n",
    "ET_name_100 = []\n",
    "ET_accuracy_100 = []\n",
    "ET_time_100 = []\n",
    "\n",
    "for line in acc_ET_100:\n",
    "    fields = line.split(',')\n",
    "    ET_taskID_100.append(fields[0])\n",
    "    ET_name_100.append(fields[1])\n",
    "    ET_accuracy_100.append(float(fields[2]))\n",
    "    ET_time_100.append(fields[3])\n",
    "\n",
    "print(np.shape(ET_accuracy_100))"
   ]
  },
  {
   "cell_type": "markdown",
   "metadata": {},
   "source": [
    "### Find RF vs. ET accuracy differences"
   ]
  },
  {
   "cell_type": "markdown",
   "metadata": {},
   "source": [
    "##### OpenML CC-18"
   ]
  },
  {
   "cell_type": "code",
   "execution_count": 13,
   "metadata": {},
   "outputs": [
    {
     "data": {
      "text/plain": [
       "(array([ 1.,  0.,  0.,  0.,  3.,  7., 25., 27.,  4.,  5.]),\n",
       " array([-0.0784 , -0.06703, -0.05566, -0.04429, -0.03292, -0.02155,\n",
       "        -0.01018,  0.00119,  0.01256,  0.02393,  0.0353 ]),\n",
       " <a list of 10 Patch objects>)"
      ]
     },
     "execution_count": 13,
     "metadata": {},
     "output_type": "execute_result"
    },
    {
     "data": {
      "image/png": "[encoded data removed]",
      "text/plain": [
       "<Figure size 432x288 with 1 Axes>"
      ]
     },
     "metadata": {
      "needs_background": "light"
     },
     "output_type": "display_data"
    }
   ],
   "source": [
    "acc_diffs_CC18 = []\n",
    "\n",
    "for i in range(len(ET_accuracy_CC18)):\n",
    "    acc_diffs_CC18.append(ET_accuracy_CC18[i]-RF_accuracy_CC18[i])\n",
    "\n",
    "plt.hist(acc_diffs_CC18)"
   ]
  },
  {
   "cell_type": "markdown",
   "metadata": {},
   "source": [
    "##### OpenML 100"
   ]
  },
  {
   "cell_type": "code",
   "execution_count": 14,
   "metadata": {},
   "outputs": [
    {
     "data": {
      "text/plain": [
       "(array([ 1.,  1.,  9., 65., 19.,  3.,  0.,  0.,  0.,  1.]),\n",
       " array([-0.0784 , -0.05656, -0.03472, -0.01288,  0.00896,  0.0308 ,\n",
       "         0.05264,  0.07448,  0.09632,  0.11816,  0.14   ]),\n",
       " <a list of 10 Patch objects>)"
      ]
     },
     "execution_count": 14,
     "metadata": {},
     "output_type": "execute_result"
    },
    {
     "data": {
      "image/png": "[encoded data removed]",
      "text/plain": [
       "<Figure size 432x288 with 1 Axes>"
      ]
     },
     "metadata": {
      "needs_background": "light"
     },
     "output_type": "display_data"
    }
   ],
   "source": [
    "acc_diffs_100 = []\n",
    "\n",
    "for i in range(len(ET_accuracy_100)):\n",
    "    acc_diffs_100.append(ET_accuracy_100[i]-RF_accuracy_100[i])\n",
    "    \n",
    "plt.hist(acc_diffs_100)"
   ]
  },
  {
   "cell_type": "markdown",
   "metadata": {},
   "source": [
    "### Plot RF vs. ET accuracy differences (scatterplot)"
   ]
  },
  {
   "cell_type": "markdown",
   "metadata": {},
   "source": [
    "##### OpenML CC-18"
   ]
  },
  {
   "cell_type": "markdown",
   "metadata": {},
   "source": [
    "###### Make datapoints with the accuracy differences vs. number of features and number of samples, separately"
   ]
  },
  {
   "cell_type": "code",
   "execution_count": 15,
   "metadata": {},
   "outputs": [],
   "source": [
    "n_features_CC18 = []\n",
    "n_samples_CC18 = []\n",
    "\n",
    "for i in range(len(ET_time_CC18)):\n",
    "    n_features_CC18.append(dimen_CC18[i][1])\n",
    "    n_samples_CC18.append(dimen_CC18[i][0])\n",
    "\n",
    "n_features_CC18 = np.vstack((n_features_CC18, acc_diffs_CC18))\n",
    "n_samples_CC18 = np.vstack((n_samples_CC18, acc_diffs_CC18))"
   ]
  },
  {
   "cell_type": "markdown",
   "metadata": {},
   "source": [
    "###### Plot each dataset's accuracy difference against its number of features"
   ]
  },
  {
   "cell_type": "code",
   "execution_count": 16,
   "metadata": {},
   "outputs": [
    {
     "data": {
      "text/plain": [
       "Text(0.5, 1.0, 'ET vs RF accuracy differences per number of features: CC-18')"
      ]
     },
     "execution_count": 16,
     "metadata": {},
     "output_type": "execute_result"
    },
    {
     "data": {
      "image/png": "[encoded data removed]",
      "text/plain": [
       "<Figure size 432x288 with 1 Axes>"
      ]
     },
     "metadata": {
      "needs_background": "light"
     },
     "output_type": "display_data"
    }
   ],
   "source": [
    "plt.figure()\n",
    "sns.scatterplot(n_features_CC18[:][0],n_features_CC18[:][1])\n",
    "plt.xlabel('Number of Features')\n",
    "plt.ylabel('Accuracy differences')\n",
    "plt.xscale('log')\n",
    "plt.title('ET vs RF accuracy differences per number of features: CC-18')"
   ]
  },
  {
   "cell_type": "markdown",
   "metadata": {},
   "source": [
    "##### Plot each dataset's accuracy difference against its number of samples"
   ]
  },
  {
   "cell_type": "code",
   "execution_count": 17,
   "metadata": {},
   "outputs": [
    {
     "data": {
      "text/plain": [
       "Text(0.5, 1.0, 'ET vs RF accuracy differences per number of samples: CC-18')"
      ]
     },
     "execution_count": 17,
     "metadata": {},
     "output_type": "execute_result"
    },
    {
     "data": {
      "image/png": "[encoded data removed]",
      "text/plain": [
       "<Figure size 432x288 with 1 Axes>"
      ]
     },
     "metadata": {
      "needs_background": "light"
     },
     "output_type": "display_data"
    }
   ],
   "source": [
    "plt.figure()\n",
    "sns.scatterplot(n_samples_CC18[:][0],n_samples_CC18[:][1])\n",
    "plt.xlabel('Number of Samples')\n",
    "plt.ylabel('Accuracy differences')\n",
    "plt.xscale('log')\n",
    "plt.title('ET vs RF accuracy differences per number of samples: CC-18')"
   ]
  },
  {
   "cell_type": "markdown",
   "metadata": {},
   "source": [
    "###### Plot each dataset's accuracy difference against its number of samples and number of features, with the marker size denoting the relative difference magnitude"
   ]
  },
  {
   "cell_type": "code",
   "execution_count": 18,
   "metadata": {},
   "outputs": [
    {
     "name": "stdout",
     "output_type": "stream",
     "text": [
      "RF was better for 33 out of 72 datasets in CC18\n"
     ]
    },
    {
     "data": {
      "image/png": "[encoded data removed]",
      "text/plain": [
       "<Figure size 432x288 with 1 Axes>"
      ]
     },
     "metadata": {
      "needs_background": "light"
     },
     "output_type": "display_data"
    }
   ],
   "source": [
    "# Dacc_diffs_CC18 = acc_diffs_CC18\n",
    "\n",
    "# a = np.mean(acc_diffs_CC18)-0.01\n",
    "# b = np.mean(acc_diffs_CC18)+0.01\n",
    "\n",
    "# for i in range(len(acc_diffs_CC18)):\n",
    "#     if acc_diffs_CC18[i] > 0:\n",
    "#         if acc_diffs_CC18[i] < (a):\n",
    "#             Dacc_diffs_CC18[i] = a\n",
    "#         if acc_diffs_CC18[i] > (b):\n",
    "#             Dacc_diffs_CC18[i] = b\n",
    "#     else:\n",
    "#         if acc_diffs_CC18[i] > (a*-1):\n",
    "#             Dacc_diffs_CC18[i] = a*-1\n",
    "#         if acc_diffs_CC18[i] < (b*-1):\n",
    "#             Dacc_diffs_CC18[i] = b*-1\n",
    "\n",
    "red_CC18 = 0\n",
    "plt.figure()\n",
    "for i in range(len(acc_diffs_CC18)):\n",
    "    if acc_diffs_CC18[i] > 0:\n",
    "        plt.plot(dimen_CC18[i][1],dimen_CC18[i][0],'bo',MarkerSize = (acc_diffs_CC18[i])*500,alpha=0.5)\n",
    "    else:\n",
    "        plt.plot(dimen_CC18[i][1],dimen_CC18[i][0],'ro',MarkerSize = (acc_diffs_CC18[i])*-500,alpha=0.5)\n",
    "        red_CC18 += 1\n",
    "plt.xlabel('Number of Samples')\n",
    "plt.ylabel('Number of Features')\n",
    "plt.xscale('log')\n",
    "plt.yscale('log')\n",
    "plt.title('Diffs between ET and RF: CC-18')\n",
    "\n",
    "print('RF was better for ' + str(red_CC18) + ' out of 72 datasets in CC18')"
   ]
  },
  {
   "cell_type": "markdown",
   "metadata": {},
   "source": [
    "##### OpenML 100"
   ]
  },
  {
   "cell_type": "markdown",
   "metadata": {},
   "source": [
    "###### Make datapoints with the accuracy differences vs. number of features and number of samples, separately"
   ]
  },
  {
   "cell_type": "code",
   "execution_count": 19,
   "metadata": {},
   "outputs": [],
   "source": [
    "n_features_100 = []\n",
    "n_samples_100 = []\n",
    "\n",
    "for i in range(len(ET_time_100)):\n",
    "    n_features_100.append(dimen_100[i][1])\n",
    "    n_samples_100.append(dimen_100[i][0])\n",
    "\n",
    "n_features_100 = np.vstack((n_features_100, acc_diffs_100))\n",
    "n_samples_100 = np.vstack((n_samples_100, acc_diffs_100))"
   ]
  },
  {
   "cell_type": "markdown",
   "metadata": {},
   "source": [
    "###### Plot each dataset's accuracy difference against its number of features"
   ]
  },
  {
   "cell_type": "code",
   "execution_count": 23,
   "metadata": {},
   "outputs": [
    {
     "data": {
      "text/plain": [
       "Text(0.5, 1.0, 'ET vs RF accuracy differences per number of features: 100')"
      ]
     },
     "execution_count": 23,
     "metadata": {},
     "output_type": "execute_result"
    },
    {
     "data": {
      "image/png": "[encoded data removed]",
      "text/plain": [
       "<Figure size 432x288 with 1 Axes>"
      ]
     },
     "metadata": {
      "needs_background": "light"
     },
     "output_type": "display_data"
    }
   ],
   "source": [
    "plt.figure()\n",
    "sns.scatterplot(n_features_100[:][0],n_features_100[:][1])\n",
    "plt.xlabel('Number of Features')\n",
    "plt.ylabel('Accuracy differences')\n",
    "plt.xscale('log')\n",
    "plt.title('ET vs RF accuracy differences per number of features: 100')"
   ]
  },
  {
   "cell_type": "markdown",
   "metadata": {},
   "source": [
    "###### Plot each dataset's accuracy difference against its number of samples"
   ]
  },
  {
   "cell_type": "code",
   "execution_count": 11,
   "metadata": {},
   "outputs": [
    {
     "ename": "NameError",
     "evalue": "name 'n_samples_100' is not defined",
     "output_type": "error",
     "traceback": [
      "\u001b[0;31m---------------------------------------------------------------------------\u001b[0m",
      "\u001b[0;31mNameError\u001b[0m                                 Traceback (most recent call last)",
      "\u001b[0;32m<ipython-input-11-c7c11cbe099c>\u001b[0m in \u001b[0;36m<module>\u001b[0;34m\u001b[0m\n\u001b[1;32m      1\u001b[0m \u001b[0mplt\u001b[0m\u001b[0;34m.\u001b[0m\u001b[0mfigure\u001b[0m\u001b[0;34m(\u001b[0m\u001b[0;34m)\u001b[0m\u001b[0;34m\u001b[0m\u001b[0;34m\u001b[0m\u001b[0m\n\u001b[0;32m----> 2\u001b[0;31m \u001b[0msns\u001b[0m\u001b[0;34m.\u001b[0m\u001b[0mscatterplot\u001b[0m\u001b[0;34m(\u001b[0m\u001b[0mn_samples_100\u001b[0m\u001b[0;34m[\u001b[0m\u001b[0;34m:\u001b[0m\u001b[0;34m]\u001b[0m\u001b[0;34m[\u001b[0m\u001b[0;36m0\u001b[0m\u001b[0;34m]\u001b[0m\u001b[0;34m,\u001b[0m\u001b[0mn_samples_100\u001b[0m\u001b[0;34m[\u001b[0m\u001b[0;34m:\u001b[0m\u001b[0;34m]\u001b[0m\u001b[0;34m[\u001b[0m\u001b[0;36m1\u001b[0m\u001b[0;34m]\u001b[0m\u001b[0;34m)\u001b[0m\u001b[0;34m\u001b[0m\u001b[0;34m\u001b[0m\u001b[0m\n\u001b[0m\u001b[1;32m      3\u001b[0m \u001b[0mplt\u001b[0m\u001b[0;34m.\u001b[0m\u001b[0mxlabel\u001b[0m\u001b[0;34m(\u001b[0m\u001b[0;34m'Number of Samples'\u001b[0m\u001b[0;34m)\u001b[0m\u001b[0;34m\u001b[0m\u001b[0;34m\u001b[0m\u001b[0m\n\u001b[1;32m      4\u001b[0m \u001b[0mplt\u001b[0m\u001b[0;34m.\u001b[0m\u001b[0mylabel\u001b[0m\u001b[0;34m(\u001b[0m\u001b[0;34m'Accuracy differences'\u001b[0m\u001b[0;34m)\u001b[0m\u001b[0;34m\u001b[0m\u001b[0;34m\u001b[0m\u001b[0m\n\u001b[1;32m      5\u001b[0m \u001b[0mplt\u001b[0m\u001b[0;34m.\u001b[0m\u001b[0mxscale\u001b[0m\u001b[0;34m(\u001b[0m\u001b[0;34m'log'\u001b[0m\u001b[0;34m)\u001b[0m\u001b[0;34m\u001b[0m\u001b[0;34m\u001b[0m\u001b[0m\n",
      "\u001b[0;31mNameError\u001b[0m: name 'n_samples_100' is not defined"
     ]
    },
    {
     "data": {
      "text/plain": [
       "<Figure size 432x288 with 0 Axes>"
      ]
     },
     "metadata": {},
     "output_type": "display_data"
    }
   ],
   "source": [
    "plt.figure()\n",
    "sns.scatterplot(n_samples_100[:][0],n_samples_100[:][1])\n",
    "plt.xlabel('Number of Samples')\n",
    "plt.ylabel('Accuracy differences')\n",
    "plt.xscale('log')\n",
    "plt.title('ET vs RF accuracy differences per number of samples: 100')"
   ]
  },
  {
   "cell_type": "markdown",
   "metadata": {},
   "source": [
    "###### Plot each dataset's accuracy difference against its number of samples and number of features, with the marker size denoting the relative difference magnitude"
   ]
  },
  {
   "cell_type": "code",
   "execution_count": 25,
   "metadata": {},
   "outputs": [
    {
     "name": "stdout",
     "output_type": "stream",
     "text": [
      "RF was better for 49 out of 99 datasets in 100\n"
     ]
    },
    {
     "data": {
      "image/png": "[encoded data removed]",
      "text/plain": [
       "<Figure size 432x288 with 1 Axes>"
      ]
     },
     "metadata": {
      "needs_background": "light"
     },
     "output_type": "display_data"
    }
   ],
   "source": [
    "# Dacc_diffs_100 = acc_diffs_100\n",
    "\n",
    "# c = np.mean(acc_diffs_100)-0.01\n",
    "# d = np.mean(acc_diffs_100)+0.01\n",
    "\n",
    "# for i in range(len(acc_diffs_100)):\n",
    "#     if acc_diffs_100[i] > 0:\n",
    "#         if acc_diffs_100[i] < (c):\n",
    "#             Dacc_diffs_100[i] = c\n",
    "#         if acc_diffs_100[i] > (d):\n",
    "#             Dacc_diffs_100[i] = d\n",
    "#     else:\n",
    "#         if acc_diffs_100[i] > (c*-1):\n",
    "#             Dacc_diffs_100[i] = c*-1\n",
    "#         if acc_diffs_100[i] < (d*-1):\n",
    "#             Dacc_diffs_100[i] = d*-1\n",
    "\n",
    "red_100 = 0\n",
    "plt.figure()\n",
    "for i in range(len(acc_diffs_100)):\n",
    "    if acc_diffs_100[i] > 0:\n",
    "        plt.plot(dimen_100[i][1],dimen_100[i][0],'bo',MarkerSize = (acc_diffs_100[i])*500,alpha=0.5)\n",
    "    else:\n",
    "        plt.plot(dimen_100[i][1],dimen_100[i][0],'ro',MarkerSize = (acc_diffs_100[i])*-500,alpha=0.5)\n",
    "        red_100 += 1\n",
    "plt.xlabel('Number of Samples')\n",
    "plt.ylabel('Number of Features')\n",
    "plt.xscale('log')\n",
    "plt.yscale('log')\n",
    "plt.title('Diffs between ET and RF: 100')\n",
    "        \n",
    "print('RF was better for ' + str(red_100) + ' out of 99 datasets in 100')"
   ]
  },
  {
   "cell_type": "markdown",
   "metadata": {},
   "source": [
    "### Benchmark RandomForestClassifier and ExtraTreesClassifier with _optimized hyperparameters_\n",
    "\n",
    "#### The following sections use the OpenML CC-18 and 100 suites and classifies each dataset using the sklearn's RandomForest classifier and ExtraTrees classifier with optimized hyperparameters. The task IDs, accuracies, and runtimes of each dataset are compiled into .txt files for later analysis"
   ]
  },
  {
   "cell_type": "code",
   "execution_count": null,
   "metadata": {},
   "outputs": [],
   "source": []
  }
 ],
 "metadata": {
  "kernelspec": {
   "display_name": "Python [conda env:tealeaf] *",
   "language": "python",
   "name": "conda-env-tealeaf-py"
  },
  "language_info": {
   "codemirror_mode": {
    "name": "ipython",
    "version": 3
   },
   "file_extension": ".py",
   "mimetype": "text/x-python",
   "name": "python",
   "nbconvert_exporter": "python",
   "pygments_lexer": "ipython3",
   "version": "3.7.4"
  }
 },
 "nbformat": 4,
 "nbformat_minor": 2
}
