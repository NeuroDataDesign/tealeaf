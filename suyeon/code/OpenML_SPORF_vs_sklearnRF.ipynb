{
 "cells": [
  {
   "cell_type": "markdown",
   "metadata": {},
   "source": [
    "### Load in dataset properties"
   ]
  },
  {
   "cell_type": "code",
   "execution_count": 2,
   "metadata": {},
   "outputs": [
    {
     "name": "stdout",
     "output_type": "stream",
     "text": [
      "Error in OpenML 100 dataset 34536\n",
      "(68,)\n"
     ]
    }
   ],
   "source": [
    "import openml\n",
    "import numpy as np\n",
    "import pandas as pd\n",
    "\n",
    "###################### obtain the benchmark suites ######################\n",
    "set_CC18 = openml.study.get_suite('OpenML-CC18')\n",
    "set_100 = openml.study.get_suite('OpenML100')\n",
    "\n",
    "for task_id in set_CC18.tasks:  # iterate over all tasks\n",
    "    try:\n",
    "        task = openml.tasks.get_task(task_id)  # download the OpenML task\n",
    "        features_CC18, targets_CC18 = task.get_X_and_y()  # get the data\n",
    "    except:\n",
    "        print('Error in OpenML CC-18 dataset ' + str(task_id))\n",
    "\n",
    "for task_id in set_100.tasks:  # iterate over all tasks\n",
    "    try:\n",
    "        task = openml.tasks.get_task(task_id)  # download the OpenML task\n",
    "        features_100, targets_100 = task.get_X_and_y()  # get the data\n",
    "    except:\n",
    "        print('Error in OpenML 100 dataset ' + str(task_id))\n",
    "        \n",
    "########################## read in accuracies ###########################\n",
    "acc_SPORF_CC18 = open('SPORF_accuracies_CC-18.txt','r')\n",
    "\n",
    "SPORF_taskID_CC18 = []\n",
    "SPORF_name_CC18 = []\n",
    "SPORF_accuracy_CC18 = []\n",
    "SPORF_time_CC18 = []\n",
    "    \n",
    "for line in acc_SPORF_CC18:\n",
    "    fields = line.split(',')\n",
    "    SPORF_taskID_CC18.append(fields[0])\n",
    "    SPORF_name_CC18.append(fields[1])\n",
    "    SPORF_accuracy_CC18.append(float(fields[2]))\n",
    "    SPORF_time_CC18.append(fields[3])\n",
    "\n",
    "print(np.shape(SPORF_accuracy_CC18))\n",
    "# <- WORKS!\n",
    "\n",
    "acc_SPORF_100 = open('SPORF_accuracies_100.txt','r')\n",
    "\n",
    "SPORF_taskID_100 = []\n",
    "SPORF_name_100 = []\n",
    "SPORF_accuracy_100 = []\n",
    "SPORF_time_100 = []\n",
    "\n",
    "for line in acc_SPORF_100:\n",
    "    fields = line.split(',')\n",
    "    SPORF_taskID_100.append(fields[0])\n",
    "    SPORF_name_100.append(fields[1])\n",
    "    SPORF_accuracy_100.append(float(fields[2]))\n",
    "    SPORF_time_100.append(fields[3])\n",
    "\n",
    "# print(np.shape(SPORF_accuracy_100)) <- WORKS!\n",
    "\n",
    "acc_skRF_CC18 = open('sklearnRF_accuracies_CC-18.txt','r')\n",
    "\n",
    "skRF_taskID_CC18 = []\n",
    "skRF_name_CC18 = []\n",
    "skRF_accuracy_CC18 = []\n",
    "skRF_time_CC18 = []\n",
    "\n",
    "for line in acc_skRF_CC18:\n",
    "    fields = line.split(',')\n",
    "    skRF_taskID_CC18.append(fields[0])\n",
    "    skRF_name_CC18.append(fields[1])\n",
    "    skRF_accuracy_CC18.append(float(fields[2]))\n",
    "    skRF_time_CC18.append(fields[3])\n",
    "\n",
    "# print(np.shape(skRF_accuracy_CC18)) <- WORKS!\n",
    "\n",
    "acc_skRF_100 = open('sklearnRF_accuracies_100.txt','r')\n",
    "\n",
    "skRF_taskID_100 = []\n",
    "skRF_name_100 = []\n",
    "skRF_accuracy_100 = []\n",
    "skRF_time_100 = []\n",
    "\n",
    "for line in acc_skRF_100:\n",
    "    fields = line.split(',')\n",
    "    skRF_taskID_100.append(fields[0])\n",
    "    skRF_name_100.append(fields[1])\n",
    "    skRF_accuracy_100.append(float(fields[2]))\n",
    "    skRF_time_100.append(fields[3])\n",
    "\n",
    "# print(np.shape(skRF_accuracy_100)) <- WORKS!"
   ]
  },
  {
   "cell_type": "markdown",
   "metadata": {},
   "source": []
  }
 ],
 "metadata": {
  "kernelspec": {
   "display_name": "Python [conda env:tealeaf] *",
   "language": "python",
   "name": "conda-env-tealeaf-py"
  },
  "language_info": {
   "codemirror_mode": {
    "name": "ipython",
    "version": 3
   },
   "file_extension": ".py",
   "mimetype": "text/x-python",
   "name": "python",
   "nbconvert_exporter": "python",
   "pygments_lexer": "ipython3",
   "version": "3.7.4"
  }
 },
 "nbformat": 4,
 "nbformat_minor": 2
}
