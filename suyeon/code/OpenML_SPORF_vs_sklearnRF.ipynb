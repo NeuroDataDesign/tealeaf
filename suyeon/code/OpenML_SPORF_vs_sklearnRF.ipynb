{
 "cells": [
  {
   "cell_type": "markdown",
   "metadata": {},
   "source": [
    "### Load in dataset properties"
   ]
  },
  {
   "cell_type": "code",
   "execution_count": 2,
   "metadata": {},
   "outputs": [
    {
     "name": "stdout",
     "output_type": "stream",
     "text": [
      "Error in OpenML 100 dataset 34536\n"
     ]
    }
   ],
   "source": [
    "import openml\n",
    "import numpy as np\n",
    "import pandas as pd\n",
    "\n",
    "###################### obtain the benchmark suites ######################\n",
    "set_CC18 = openml.study.get_suite('OpenML-CC18')\n",
    "set_100 = openml.study.get_suite('OpenML100')\n",
    "\n",
    "dimen_CC18 = []\n",
    "dimen_100 = []\n",
    "\n",
    "for task_id in set_CC18.tasks:  # iterate over all tasks\n",
    "    try:\n",
    "        task = openml.tasks.get_task(task_id)  # download the OpenML task\n",
    "        features_CC18, targets_CC18 = task.get_X_and_y()  # get the data\n",
    "        dimen_CC18.append(np.shape(features_CC18))\n",
    "    except:\n",
    "        print('Error in OpenML CC-18 dataset ' + str(task_id))\n",
    "\n",
    "for task_id in set_100.tasks:  # iterate over all tasks\n",
    "    try:\n",
    "        task = openml.tasks.get_task(task_id)  # download the OpenML task\n",
    "        features_100, targets_100 = task.get_X_and_y()  # get the data\n",
    "        dimen_100.append(np.shape(features_100))\n",
    "    except:\n",
    "        print('Error in OpenML 100 dataset ' + str(task_id))\n",
    "        \n",
    "########################## read in accuracies ###########################\n",
    "acc_SPORF_CC18 = open('SPORF_accuracies_CC-18.txt','r')\n",
    "\n",
    "SPORF_taskID_CC18 = []\n",
    "SPORF_name_CC18 = []\n",
    "SPORF_accuracy_CC18 = []\n",
    "SPORF_time_CC18 = []\n",
    "    \n",
    "for line in acc_SPORF_CC18:\n",
    "    fields = line.split(',')\n",
    "    SPORF_taskID_CC18.append(fields[0])\n",
    "    SPORF_name_CC18.append(fields[1])\n",
    "    SPORF_accuracy_CC18.append(float(fields[2]))\n",
    "    SPORF_time_CC18.append(fields[3])\n",
    "\n",
    "# print(np.shape(SPORF_accuracy_CC18)) <- WORKS!\n",
    "\n",
    "acc_SPORF_100 = open('SPORF_accuracies_100.txt','r')\n",
    "\n",
    "SPORF_taskID_100 = []\n",
    "SPORF_name_100 = []\n",
    "SPORF_accuracy_100 = []\n",
    "SPORF_time_100 = []\n",
    "\n",
    "for line in acc_SPORF_100:\n",
    "    fields = line.split(',')\n",
    "    SPORF_taskID_100.append(fields[0])\n",
    "    SPORF_name_100.append(fields[1])\n",
    "    SPORF_accuracy_100.append(float(fields[2]))\n",
    "    SPORF_time_100.append(fields[3])\n",
    "\n",
    "# print(np.shape(SPORF_accuracy_100)) <- WORKS!\n",
    "\n",
    "acc_skRF_CC18 = open('sklearnRF_accuracies_CC-18.txt','r')\n",
    "\n",
    "skRF_taskID_CC18 = []\n",
    "skRF_name_CC18 = []\n",
    "skRF_accuracy_CC18 = []\n",
    "skRF_time_CC18 = []\n",
    "\n",
    "for line in acc_skRF_CC18:\n",
    "    fields = line.split(',')\n",
    "    skRF_taskID_CC18.append(fields[0])\n",
    "    skRF_name_CC18.append(fields[1])\n",
    "    skRF_accuracy_CC18.append(float(fields[2]))\n",
    "    skRF_time_CC18.append(fields[3])\n",
    "\n",
    "# print(np.shape(skRF_accuracy_CC18)) <- WORKS!\n",
    "\n",
    "acc_skRF_100 = open('sklearnRF_accuracies_100.txt','r')\n",
    "\n",
    "skRF_taskID_100 = []\n",
    "skRF_name_100 = []\n",
    "skRF_accuracy_100 = []\n",
    "skRF_time_100 = []\n",
    "\n",
    "for line in acc_skRF_100:\n",
    "    fields = line.split(',')\n",
    "    skRF_taskID_100.append(fields[0])\n",
    "    skRF_name_100.append(fields[1])\n",
    "    skRF_accuracy_100.append(float(fields[2]))\n",
    "    skRF_time_100.append(fields[3])\n",
    "\n",
    "# print(np.shape(skRF_accuracy_100)) <- WORKS!"
   ]
  },
  {
   "cell_type": "markdown",
   "metadata": {},
   "source": [
    "### Find accuracy differences"
   ]
  },
  {
   "cell_type": "code",
   "execution_count": 3,
   "metadata": {},
   "outputs": [
    {
     "name": "stdout",
     "output_type": "stream",
     "text": [
      "(68,)\n",
      "(55,)\n"
     ]
    }
   ],
   "source": [
    "acc_diffs_CC18 = []\n",
    "acc_diffs_100 = []\n",
    "\n",
    "for i in range(len(SPORF_accuracy_CC18)):\n",
    "    acc_diffs_CC18.append(SPORF_accuracy_CC18[i]-skRF_accuracy_CC18[i])\n",
    "    \n",
    "for i in range(len(SPORF_accuracy_100)):\n",
    "    acc_diffs_100.append(SPORF_accuracy_100[i]-skRF_accuracy_100[i])\n",
    "    \n",
    "print(np.shape(acc_diffs_CC18))\n",
    "print(np.shape(acc_diffs_100))\n",
    "\n",
    "# account for error in one OpenML 100 dataset (index 89)\n",
    "dimen_100 = np.delete(dimen_100,[89],axis=0)"
   ]
  },
  {
   "cell_type": "markdown",
   "metadata": {},
   "source": [
    "### Standardize accuracies"
   ]
  },
  {
   "cell_type": "code",
   "execution_count": 11,
   "metadata": {},
   "outputs": [
    {
     "name": "stdout",
     "output_type": "stream",
     "text": [
      "0.016633823529411774\n",
      "0.011969090909090908\n"
     ]
    }
   ],
   "source": [
    "from sklearn.preprocessing import StandardScaler\n",
    "\n",
    "# z = (x - u) / s\n",
    "\n",
    "stand_acc_diffs_CC18 = []\n",
    "\n",
    "for i in range(len(acc_diffs_CC18)):\n",
    "    stand_acc_diffs_CC18.append((acc_diffs_CC18[i] - np.mean(acc_diffs_CC18))/np.std(acc_diffs_CC18))\n",
    "\n",
    "stand_acc_diffs_100 = []\n",
    "\n",
    "for i in range(len(acc_diffs_100)):\n",
    "    stand_acc_diffs_100.append((acc_diffs_100[i] - np.mean(acc_diffs_100))/np.std(acc_diffs_100))\n",
    "\n",
    "print(np.mean(acc_diffs_CC18))\n",
    "print(np.mean(acc_diffs_100))"
   ]
  },
  {
   "cell_type": "markdown",
   "metadata": {},
   "source": [
    "### Plot differences"
   ]
  },
  {
   "cell_type": "code",
   "execution_count": 21,
   "metadata": {},
   "outputs": [
    {
     "name": "stdout",
     "output_type": "stream",
     "text": [
      "9\n",
      "8\n"
     ]
    },
    {
     "data": {
      "image/png": "[encoded data removed]",
      "text/plain": [
       "<Figure size 432x288 with 1 Axes>"
      ]
     },
     "metadata": {
      "needs_background": "light"
     },
     "output_type": "display_data"
    },
    {
     "data": {
      "image/png": "[encoded data removed]",
      "text/plain": [
       "<Figure size 432x288 with 1 Axes>"
      ]
     },
     "metadata": {
      "needs_background": "light"
     },
     "output_type": "display_data"
    }
   ],
   "source": [
    "import matplotlib.pyplot as plt\n",
    "import seaborn as sns\n",
    "\n",
    "red_CC18 = 0\n",
    "plt.figure()\n",
    "for i in range(len(acc_diffs_CC18)):\n",
    "    if acc_diffs_CC18[i] > 0:\n",
    "        plt.plot(dimen_CC18[i][1],dimen_CC18[i][0],'bo',MarkerSize = (stand_acc_diffs_CC18[i])*10)\n",
    "    else:\n",
    "        plt.plot(dimen_CC18[i][1],dimen_CC18[i][0],'ro',MarkerSize = (stand_acc_diffs_CC18[i])*10)\n",
    "        red_CC18 += 1\n",
    "plt.xlabel('Number of Instances')\n",
    "plt.ylabel('Number of Features')\n",
    "plt.title('Diffs between SPORF and RF: CC-18')\n",
    "        \n",
    "print(red_CC18)\n",
    "        \n",
    "red_100 = 0\n",
    "plt.figure()\n",
    "for i in range(len(acc_diffs_100)):\n",
    "    if acc_diffs_100[i] > 0:\n",
    "        plt.plot(dimen_100[i][1],dimen_100[i][0],'bo',MarkerSize = (stand_acc_diffs_100[i])*10)\n",
    "    else:\n",
    "        plt.plot(dimen_100[i][1],dimen_100[i][0],'ro',MarkerSize = (stand_acc_diffs_100[i])*10)\n",
    "        red_100 += 1\n",
    "plt.xlabel('Number of Instances')\n",
    "plt.ylabel('Number of Features')\n",
    "plt.title('Diffs between SPORF and RF: 100')\n",
    "        \n",
    "print(red_100)"
   ]
  },
  {
   "cell_type": "code",
   "execution_count": 40,
   "metadata": {},
   "outputs": [
    {
     "name": "stdout",
     "output_type": "stream",
     "text": [
      "[0.005900000000000016, 0.03149999999999997, 0.06880000000000008, 0.022500000000000075, 0.03599999999999992, -0.022800000000000042, 0.06300000000000006, 0.012500000000000067, 0.034500000000000086, -0.03199999999999997, 0.020299999999999985, -0.020299999999999985, 0.03600000000000003, 0.006700000000000039, 0.011699999999999933, 0.006900000000000017, 0.02279999999999993, -0.07330000000000003, -0.020100000000000007, -0.0022999999999999687, 0.017100000000000004, 0.0504, 0.0037000000000000366, 0.05149999999999999, 0.04510000000000003, 0.010700000000000043, 0.011400000000000021, 0.02290000000000003, 0.013700000000000045, 0.009600000000000053, 0.013000000000000012, 0.007699999999999929, 0.014699999999999935, 0.0037000000000000366, 0.01969999999999994, 0.0232, 0.007000000000000006, 0.01660000000000006, 0.013299999999999979, 0.00019999999999997797, 0.07100000000000006, -0.10859999999999992, 0.08810000000000007, 0.0026000000000000467, 0.0044000000000000705, 0.013900000000000023, 0.0242, 0.009499999999999953, 0.00539999999999996, -0.0019000000000000128, 0.005600000000000049, 0.005700000000000038, 0.08300000000000007, 0.014900000000000024, 0.016000000000000014, 0.01870000000000005, 0.018799999999999928, 0.0341999999999999, 0.04479999999999995, -0.007400000000000073, 0.0010000000000000009, 0.006900000000000017, 0.009500000000000064, 0.01749999999999996, 0.023799999999999932, 0.033299999999999996, 0.011800000000000033, 0.12090000000000001]\n"
     ]
    }
   ],
   "source": [
    "print(acc_diffs_CC18)"
   ]
  },
  {
   "cell_type": "code",
   "execution_count": null,
   "metadata": {},
   "outputs": [],
   "source": []
  }
 ],
 "metadata": {
  "kernelspec": {
   "display_name": "Python [conda env:tealeaf] *",
   "language": "python",
   "name": "conda-env-tealeaf-py"
  },
  "language_info": {
   "codemirror_mode": {
    "name": "ipython",
    "version": 3
   },
   "file_extension": ".py",
   "mimetype": "text/x-python",
   "name": "python",
   "nbconvert_exporter": "python",
   "pygments_lexer": "ipython3",
   "version": "3.7.4"
  }
 },
 "nbformat": 4,
 "nbformat_minor": 2
}
