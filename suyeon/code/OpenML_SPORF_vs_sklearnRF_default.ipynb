{
 "cells": [
  {
   "cell_type": "markdown",
   "metadata": {},
   "source": [
    "### Load in dataset properties"
   ]
  },
  {
   "cell_type": "code",
   "execution_count": 1,
   "metadata": {},
   "outputs": [
    {
     "name": "stdout",
     "output_type": "stream",
     "text": [
      "Error in OpenML 100 dataset 34536\n"
     ]
    }
   ],
   "source": [
    "import openml\n",
    "import numpy as np\n",
    "import pandas as pd\n",
    "\n",
    "###################### obtain the benchmark suites ######################\n",
    "set_CC18 = openml.study.get_suite('OpenML-CC18')\n",
    "set_100 = openml.study.get_suite('OpenML100')\n",
    "\n",
    "dimen_CC18 = []\n",
    "dimen_100 = []\n",
    "\n",
    "for task_id in set_CC18.tasks:  # iterate over all tasks\n",
    "    try:\n",
    "        task = openml.tasks.get_task(task_id)  # download the OpenML task\n",
    "        features_CC18, targets_CC18 = task.get_X_and_y()  # get the data\n",
    "        dimen_CC18.append(np.shape(features_CC18))\n",
    "    except:\n",
    "        print('Error in OpenML CC-18 dataset ' + str(task_id))\n",
    "\n",
    "for task_id in set_100.tasks:  # iterate over all tasks\n",
    "    try:\n",
    "        task = openml.tasks.get_task(task_id)  # download the OpenML task\n",
    "        features_100, targets_100 = task.get_X_and_y()  # get the data\n",
    "        dimen_100.append(np.shape(features_100))\n",
    "    except:\n",
    "        print('Error in OpenML 100 dataset ' + str(task_id))\n",
    "        \n",
    "########################## read in accuracies ###########################\n",
    "acc_SPORF_CC18 = open('SPORF_accuracies_CC-18.txt','r')\n",
    "\n",
    "SPORF_taskID_CC18 = []\n",
    "SPORF_name_CC18 = []\n",
    "SPORF_accuracy_CC18 = []\n",
    "SPORF_time_CC18 = []\n",
    "    \n",
    "for line in acc_SPORF_CC18:\n",
    "    fields = line.split(',')\n",
    "    SPORF_taskID_CC18.append(fields[0])\n",
    "    SPORF_name_CC18.append(fields[1])\n",
    "    SPORF_accuracy_CC18.append(float(fields[2]))\n",
    "    SPORF_time_CC18.append(fields[3])\n",
    "\n",
    "# print(np.shape(SPORF_accuracy_CC18)) <- WORKS!\n",
    "\n",
    "acc_SPORF_100 = open('SPORF_accuracies_100.txt','r')\n",
    "\n",
    "SPORF_taskID_100 = []\n",
    "SPORF_name_100 = []\n",
    "SPORF_accuracy_100 = []\n",
    "SPORF_time_100 = []\n",
    "\n",
    "for line in acc_SPORF_100:\n",
    "    fields = line.split(',')\n",
    "    SPORF_taskID_100.append(fields[0])\n",
    "    SPORF_name_100.append(fields[1])\n",
    "    SPORF_accuracy_100.append(float(fields[2]))\n",
    "    SPORF_time_100.append(fields[3])\n",
    "\n",
    "# print(np.shape(SPORF_accuracy_100)) <- WORKS!\n",
    "\n",
    "acc_skRF_CC18 = open('sklearnRF_accuracies_CC-18.txt','r')\n",
    "\n",
    "skRF_taskID_CC18 = []\n",
    "skRF_name_CC18 = []\n",
    "skRF_accuracy_CC18 = []\n",
    "skRF_time_CC18 = []\n",
    "\n",
    "for line in acc_skRF_CC18:\n",
    "    fields = line.split(',')\n",
    "    skRF_taskID_CC18.append(fields[0])\n",
    "    skRF_name_CC18.append(fields[1])\n",
    "    skRF_accuracy_CC18.append(float(fields[2]))\n",
    "    skRF_time_CC18.append(fields[3])\n",
    "\n",
    "# print(np.shape(skRF_accuracy_CC18)) <- WORKS!\n",
    "\n",
    "acc_skRF_100 = open('sklearnRF_accuracies_100.txt','r')\n",
    "\n",
    "skRF_taskID_100 = []\n",
    "skRF_name_100 = []\n",
    "skRF_accuracy_100 = []\n",
    "skRF_time_100 = []\n",
    "\n",
    "for line in acc_skRF_100:\n",
    "    fields = line.split(',')\n",
    "    skRF_taskID_100.append(fields[0])\n",
    "    skRF_name_100.append(fields[1])\n",
    "    skRF_accuracy_100.append(float(fields[2]))\n",
    "    skRF_time_100.append(fields[3])\n",
    "\n",
    "# print(np.shape(skRF_accuracy_100)) <- WORKS!"
   ]
  },
  {
   "cell_type": "markdown",
   "metadata": {},
   "source": [
    "### Find accuracy differences"
   ]
  },
  {
   "cell_type": "code",
   "execution_count": 2,
   "metadata": {},
   "outputs": [
    {
     "name": "stdout",
     "output_type": "stream",
     "text": [
      "(72,)\n",
      "(99,)\n",
      "(99, 2)\n"
     ]
    }
   ],
   "source": [
    "acc_diffs_CC18 = []\n",
    "acc_diffs_100 = []\n",
    "\n",
    "for i in range(len(SPORF_accuracy_CC18)):\n",
    "    acc_diffs_CC18.append(SPORF_accuracy_CC18[i]-skRF_accuracy_CC18[i])\n",
    "    \n",
    "for i in range(len(SPORF_accuracy_100)):\n",
    "    acc_diffs_100.append(SPORF_accuracy_100[i]-skRF_accuracy_100[i])\n",
    "    \n",
    "print(np.shape(acc_diffs_CC18))\n",
    "print(np.shape(acc_diffs_100))\n",
    "\n",
    "# account for error in one OpenML 100 dataset (index 89)\n",
    "# dimen_100 = np.delete(dimen_100,[89],axis=0)\n",
    "print(np.shape(dimen_100))"
   ]
  },
  {
   "cell_type": "markdown",
   "metadata": {},
   "source": [
    "### Standardize accuracies"
   ]
  },
  {
   "cell_type": "code",
   "execution_count": 3,
   "metadata": {},
   "outputs": [
    {
     "name": "stdout",
     "output_type": "stream",
     "text": [
      "0.017808333333333343\n",
      "0.017613131313131317\n"
     ]
    }
   ],
   "source": [
    "from sklearn.preprocessing import StandardScaler\n",
    "\n",
    "# z = (x - u) / s\n",
    "\n",
    "stand_acc_diffs_CC18 = []\n",
    "\n",
    "for i in range(len(acc_diffs_CC18)):\n",
    "    stand_acc_diffs_CC18.append((acc_diffs_CC18[i] - np.mean(acc_diffs_CC18))/np.std(acc_diffs_CC18))\n",
    "\n",
    "stand_acc_diffs_100 = []\n",
    "\n",
    "for i in range(len(acc_diffs_100)):\n",
    "    stand_acc_diffs_100.append((acc_diffs_100[i] - np.mean(acc_diffs_100))/np.std(acc_diffs_100))\n",
    "\n",
    "print(np.mean(acc_diffs_CC18))\n",
    "print(np.mean(acc_diffs_100))"
   ]
  },
  {
   "cell_type": "markdown",
   "metadata": {},
   "source": [
    "### Plot differences (scatterplot)"
   ]
  },
  {
   "cell_type": "code",
   "execution_count": 7,
   "metadata": {},
   "outputs": [
    {
     "name": "stdout",
     "output_type": "stream",
     "text": [
      "11\n",
      "17\n"
     ]
    },
    {
     "data": {
      "image/png": "[encoded data removed]",
      "text/plain": [
       "<Figure size 432x288 with 1 Axes>"
      ]
     },
     "metadata": {
      "needs_background": "light"
     },
     "output_type": "display_data"
    },
    {
     "data": {
      "image/png": "[encoded data removed]",
      "text/plain": [
       "<Figure size 432x288 with 1 Axes>"
      ]
     },
     "metadata": {
      "needs_background": "light"
     },
     "output_type": "display_data"
    }
   ],
   "source": [
    "import matplotlib.pyplot as plt\n",
    "import seaborn as sns\n",
    "\n",
    "Dacc_diffs_CC18 = acc_diffs_CC18\n",
    "Dacc_diffs_100 = acc_diffs_100\n",
    "\n",
    "a = np.mean(acc_diffs_CC18)-0.01\n",
    "# print(a)\n",
    "b = np.mean(acc_diffs_CC18)+0.01\n",
    "# print(b)\n",
    "\n",
    "for i in range(len(acc_diffs_CC18)):\n",
    "    if acc_diffs_CC18[i] > 0:\n",
    "        if acc_diffs_CC18[i] < (a):\n",
    "            Dacc_diffs_CC18[i] = a\n",
    "        if acc_diffs_CC18[i] > (b):\n",
    "            Dacc_diffs_CC18[i] = b\n",
    "    else:\n",
    "        if acc_diffs_CC18[i] > (a*-1):\n",
    "            Dacc_diffs_CC18[i] = a*-1\n",
    "        if acc_diffs_CC18[i] < (b*-1):\n",
    "            Dacc_diffs_CC18[i] = b*-1\n",
    "# print(np.sort(acc_diffs_CC18))\n",
    "\n",
    "c = np.mean(acc_diffs_100)-0.01\n",
    "# print(c)\n",
    "d = np.mean(acc_diffs_100)+0.01\n",
    "# print(d)\n",
    "\n",
    "for i in range(len(acc_diffs_100)):\n",
    "    if acc_diffs_100[i] > 0:\n",
    "        if acc_diffs_100[i] < (c):\n",
    "            Dacc_diffs_100[i] = c\n",
    "        if acc_diffs_100[i] > (d):\n",
    "            Dacc_diffs_100[i] = d\n",
    "    else:\n",
    "        if acc_diffs_100[i] > (c*-1):\n",
    "            Dacc_diffs_100[i] = c*-1\n",
    "        if acc_diffs_100[i] < (d*-1):\n",
    "            Dacc_diffs_100[i] = d*-1\n",
    "# print(np.sort(acc_diffs_100))\n",
    "\n",
    "red_CC18 = 0\n",
    "plt.figure()\n",
    "for i in range(len(Dacc_diffs_CC18)):\n",
    "    if Dacc_diffs_CC18[i] > 0:\n",
    "        plt.plot(dimen_CC18[i][1],dimen_CC18[i][0],'bo',MarkerSize = (Dacc_diffs_CC18[i])*500)\n",
    "    else:\n",
    "        plt.plot(dimen_CC18[i][1],dimen_CC18[i][0],'ro',MarkerSize = (Dacc_diffs_CC18[i])*-500)\n",
    "        red_CC18 += 1\n",
    "plt.xlabel('Number of Instances')\n",
    "plt.ylabel('Number of Features')\n",
    "plt.title('Diffs between SPORF and RF: CC-18')\n",
    "        \n",
    "print(red_CC18)\n",
    "        \n",
    "red_100 = 0\n",
    "plt.figure()\n",
    "for i in range(len(Dacc_diffs_100)):\n",
    "    if Dacc_diffs_100[i] > 0:\n",
    "        plt.plot(dimen_100[i][1],dimen_100[i][0],'bo',MarkerSize = (Dacc_diffs_100[i])*500)\n",
    "    else:\n",
    "        plt.plot(dimen_100[i][1],dimen_100[i][0],'ro',MarkerSize = (Dacc_diffs_100[i])*-500)\n",
    "        red_100 += 1\n",
    "plt.xlabel('Number of Instances')\n",
    "plt.ylabel('Number of Features')\n",
    "plt.title('Diffs between SPORF and RF: 100')\n",
    "        \n",
    "print(red_100)"
   ]
  },
  {
   "cell_type": "code",
   "execution_count": 5,
   "metadata": {},
   "outputs": [
    {
     "name": "stdout",
     "output_type": "stream",
     "text": [
      "11\n",
      "17\n"
     ]
    },
    {
     "data": {
      "image/png": "[encoded data removed]",
      "text/plain": [
       "<Figure size 432x288 with 1 Axes>"
      ]
     },
     "metadata": {
      "needs_background": "light"
     },
     "output_type": "display_data"
    },
    {
     "data": {
      "image/png": "[encoded data removed]",
      "text/plain": [
       "<Figure size 432x288 with 1 Axes>"
      ]
     },
     "metadata": {
      "needs_background": "light"
     },
     "output_type": "display_data"
    }
   ],
   "source": [
    "a = np.mean(acc_diffs_CC18)-0.01\n",
    "# print(a)\n",
    "b = np.mean(acc_diffs_CC18)+0.01\n",
    "# print(b)\n",
    "\n",
    "Eacc_diffs_CC18 = acc_diffs_CC18\n",
    "Eacc_diffs_100 = acc_diffs_100\n",
    "\n",
    "for i in range(len(acc_diffs_CC18)):\n",
    "    if acc_diffs_CC18[i] > 0:\n",
    "        if acc_diffs_CC18[i] < (a):\n",
    "            Eacc_diffs_CC18[i] = a\n",
    "        if acc_diffs_CC18[i] > (b):\n",
    "            Eacc_diffs_CC18[i] = b\n",
    "    else:\n",
    "        if acc_diffs_CC18[i] > (a*-1):\n",
    "            Eacc_diffs_CC18[i] = a*-1\n",
    "        if acc_diffs_CC18[i] < (b*-1):\n",
    "            Eacc_diffs_CC18[i] = b*-1\n",
    "# print(np.sort(acc_diffs_CC18))\n",
    "\n",
    "c = np.mean(acc_diffs_100)-0.01\n",
    "# print(c)\n",
    "d = np.mean(acc_diffs_100)+0.01\n",
    "# print(d)\n",
    "\n",
    "for i in range(len(acc_diffs_100)):\n",
    "    if acc_diffs_100[i] > 0:\n",
    "        if acc_diffs_100[i] < (c):\n",
    "            Eacc_diffs_100[i] = c\n",
    "        if acc_diffs_100[i] > (d):\n",
    "            Eacc_diffs_100[i] = d\n",
    "    else:\n",
    "        if acc_diffs_100[i] > (c*-1):\n",
    "            Eacc_diffs_100[i] = c*-1\n",
    "        if acc_diffs_100[i] < (d*-1):\n",
    "            Eacc_diffs_100[i] = d*-1\n",
    "# print(np.sort(acc_diffs_100))\n",
    "\n",
    "red_CC18 = 0\n",
    "plt.figure()\n",
    "for i in range(len(Eacc_diffs_CC18)):\n",
    "    m = (Eacc_diffs_CC18[i])*500\n",
    "    if Eacc_diffs_CC18[i] > 0:\n",
    "        plt.plot(dimen_CC18[i][1],dimen_CC18[i][0],'bo',MarkerSize = m)\n",
    "    else:\n",
    "        plt.plot(dimen_CC18[i][1],dimen_CC18[i][0],'ro',MarkerSize = m*-1)\n",
    "        red_CC18 += 1\n",
    "plt.xlabel('Number of Instances')\n",
    "plt.ylabel('Number of Features')\n",
    "plt.title('Diffs between SPORF and RF: CC-18')\n",
    "plt.xlim([0,2000])\n",
    "plt.ylim([0,20000])\n",
    "        \n",
    "print(red_CC18)\n",
    "        \n",
    "red_100 = 0\n",
    "plt.figure()\n",
    "for i in range(len(Eacc_diffs_100)):\n",
    "    n = (Eacc_diffs_100[i])*500\n",
    "    if Eacc_diffs_100[i] > 0:\n",
    "        plt.plot(dimen_100[i][1],dimen_100[i][0],'bo',MarkerSize = n)\n",
    "    else:\n",
    "        plt.plot(dimen_100[i][1],dimen_100[i][0],'ro',MarkerSize = n*-1)\n",
    "        red_100 += 1\n",
    "plt.xlabel('Number of Instances')\n",
    "plt.ylabel('Number of Features')\n",
    "plt.title('Diffs between SPORF and RF: 100')\n",
    "plt.xlim([0,100])\n",
    "plt.ylim([0,21000])\n",
    "\n",
    "print(red_100)"
   ]
  },
  {
   "cell_type": "markdown",
   "metadata": {},
   "source": [
    "### Plot differences (bar graph)"
   ]
  },
  {
   "cell_type": "code",
   "execution_count": 6,
   "metadata": {},
   "outputs": [],
   "source": [
    "# a = np.mean(acc_diffs_CC18)-0.01\n",
    "# # print(a)\n",
    "# b = np.mean(acc_diffs_CC18)+0.01\n",
    "# # print(b)\n",
    "\n",
    "# for i in range(len(acc_diffs_CC18)):\n",
    "#     if acc_diffs_CC18[i] > 0:\n",
    "#         if acc_diffs_CC18[i] < (a):\n",
    "#             acc_diffs_CC18[i] = a\n",
    "#         if acc_diffs_CC18[i] > (b):\n",
    "#             acc_diffs_CC18[i] = b\n",
    "#     else:\n",
    "#         if acc_diffs_CC18[i] > (a*-1):\n",
    "#             acc_diffs_CC18[i] = a*-1\n",
    "#         if acc_diffs_CC18[i] < (b*-1):\n",
    "#             acc_diffs_CC18[i] = b*-1\n",
    "# # print(np.sort(acc_diffs_CC18))\n",
    "\n",
    "# c = np.mean(acc_diffs_100)-0.01\n",
    "# # print(c)\n",
    "# d = np.mean(acc_diffs_100)+0.01\n",
    "# # print(d)\n",
    "\n",
    "# for i in range(len(acc_diffs_100)):\n",
    "#     if acc_diffs_100[i] > 0:\n",
    "#         if acc_diffs_100[i] < (c):\n",
    "#             acc_diffs_100[i] = c\n",
    "#         if acc_diffs_100[i] > (d):\n",
    "#             acc_diffs_100[i] = d\n",
    "#     else:\n",
    "#         if acc_diffs_100[i] > (c*-1):\n",
    "#             acc_diffs_100[i] = c*-1\n",
    "#         if acc_diffs_100[i] < (d*-1):\n",
    "#             acc_diffs_100[i] = d*-1\n",
    "# # print(np.sort(acc_diffs_100))\n",
    "\n",
    "# red_CC18 = 0\n",
    "# plt.figure()\n",
    "# for i in range(len(acc_diffs_CC18)):\n",
    "#     if acc_diffs_CC18[i] > 0:\n",
    "#         plt.bar(dimen_CC18[i][1],dimen_CC18[i][0],'bo')\n",
    "# #                  ,MarkerSize = (acc_diffs_CC18[i])*500)\n",
    "#     else:\n",
    "#         plt.bar(dimen_CC18[i][1],dimen_CC18[i][0],'ro')\n",
    "# #                  ,MarkerSize = (acc_diffs_CC18[i])*500)\n",
    "#         red_CC18 += 1\n",
    "# plt.xlabel('Number of Instances')\n",
    "# plt.ylabel('Number of Features')\n",
    "# plt.title('Diffs between SPORF and RF: CC-18')\n",
    "        \n",
    "# print(red_CC18)\n",
    "        \n",
    "# red_100 = 0\n",
    "# plt.figure()\n",
    "# for i in range(len(acc_diffs_100)):\n",
    "#     if acc_diffs_100[i] > 0:\n",
    "#         plt.bar(dimen_100[i][1],dimen_100[i][0],'bo')\n",
    "# #                  ,MarkerSize = (acc_diffs_100[i])*500)\n",
    "#     else:\n",
    "#         plt.bar(dimen_100[i][1],dimen_100[i][0],'ro')\n",
    "# #                  ,MarkerSize = (acc_diffs_100[i])*500)\n",
    "#         red_100 += 1\n",
    "# plt.xlabel('Number of Instances')\n",
    "# plt.ylabel('Number of Features')\n",
    "# plt.title('Diffs between SPORF and RF: 100')\n",
    "        \n",
    "# print(red_100)"
   ]
  },
  {
   "cell_type": "code",
   "execution_count": null,
   "metadata": {},
   "outputs": [],
   "source": []
  }
 ],
 "metadata": {
  "kernelspec": {
   "display_name": "Python [conda env:tealeaf] *",
   "language": "python",
   "name": "conda-env-tealeaf-py"
  },
  "language_info": {
   "codemirror_mode": {
    "name": "ipython",
    "version": 3
   },
   "file_extension": ".py",
   "mimetype": "text/x-python",
   "name": "python",
   "nbconvert_exporter": "python",
   "pygments_lexer": "ipython3",
   "version": "3.7.4"
  }
 },
 "nbformat": 4,
 "nbformat_minor": 2
}
