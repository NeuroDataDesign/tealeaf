{
 "cells": [
  {
   "cell_type": "markdown",
   "metadata": {},
   "source": [
    "# Hyperparameter Optimization in Machine Learning Models\n",
    "- machine learning models are parameterized so that their behavior can be tuned for a given problem\n",
    "\n",
    "\n",
    "### What is a parameter in a machine-learning learning model?\n",
    "- model parameter: configuration variable that is internal to the model and whose value can be estimated from the data\n",
    "    - required by model when making predictions\n",
    "    - values define the skill of the model on your problem\n",
    "    - estimated or learned from data\n",
    "    - often not set manually by the practitioner\n",
    "    - often saved as part of the learned model\n",
    "- whether a model has a fixed or variable number of parameters determines whether it may be referred to as \"parametric\" or \"nonparametric\"\n",
    "- examples of model parameters:\n",
    "    - weights in an artifical neural network\n",
    "    - support vectors in a support vector machine\n",
    "    - coefficients in a linear regression or logistic regression\n",
    "\n",
    "\n",
    "### What is a hyperparameter in a machine-learning learning model?\n",
    "- model hyperparameter: configuration that is external to the model and whose value cannot be estimated from the data\n",
    "    - often used in processes to help estimate model parameters\n",
    "    - often specified by the practitioner\n",
    "    - can often be set using heuristics\n",
    "    - often tuned for a given predictive modeling problem\n",
    "- you cannot know the best value for a model hyperparameter on a given problem\n",
    "- when a machine learning algorithm is tuned for a specific problem, then essentially you are tuning the hyperparameters of the model to discover the parameters of the model that result in the most skillful predictions\n",
    "- \"If you have to specify a model parameter manually, then it is probably a model hyperparameter\"\n",
    "- examples of model hyperparameters:\n",
    "    - learning rate for training a neural network\n",
    "    - C and sigma hyperparameters for support vector machines\n",
    "    - k in k-nearest neighbors\n",
    "    \n",
    "\n",
    "### Importance of the right set of hyperparameter values in a machine learning model\n",
    "- best way to think about hyperparameters is like the settings of an algorithm that can be adjusted to optimize performance\n",
    "- ask the machine to perform the exploration of the optimal model architecture for a given model\n",
    "\n",
    "\n",
    "### Two simple strategies to optimize/tune the hyperparameters\n",
    "#### 1. Grid search\n",
    "- methodically builds and evaluates a model for each combination of algorithm parameters specified in a grid\n",
    "\n",
    "#### 2. Random search"
   ]
  },
  {
   "cell_type": "code",
   "execution_count": null,
   "metadata": {},
   "outputs": [],
   "source": []
  }
 ],
 "metadata": {
  "kernelspec": {
   "display_name": "Python 3",
   "language": "python",
   "name": "python3"
  },
  "language_info": {
   "codemirror_mode": {
    "name": "ipython",
    "version": 3
   },
   "file_extension": ".py",
   "mimetype": "text/x-python",
   "name": "python",
   "nbconvert_exporter": "python",
   "pygments_lexer": "ipython3",
   "version": "3.7.4"
  }
 },
 "nbformat": 4,
 "nbformat_minor": 2
}
