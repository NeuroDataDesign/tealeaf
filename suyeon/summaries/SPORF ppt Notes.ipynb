{
 "cells": [
  {
   "cell_type": "markdown",
   "metadata": {},
   "source": [
    "# SPORF Powerpoint Notes\n",
    "## by Dr. Vogelstein"
   ]
  },
  {
   "cell_type": "markdown",
   "metadata": {},
   "source": [
    "### Formal Definition of Supervised Machine Learning\n",
    "- $ x_i \\in \\boldsymbol X \\subseteq \\mathbb{R}^p$\n",
    "- $ y_i \\in \\boldsymbol Y \\subseteq \\mathbb{R}^q$\n",
    "- $ \\boldsymbol D_n = \\left(x_i, y_i\\right) $ pairs for $ i \\in 1,...,n $\n"
   ]
  },
  {
   "cell_type": "code",
   "execution_count": null,
   "metadata": {},
   "outputs": [],
   "source": []
  }
 ],
 "metadata": {
  "kernelspec": {
   "display_name": "Python 3",
   "language": "python",
   "name": "python3"
  },
  "language_info": {
   "codemirror_mode": {
    "name": "ipython",
    "version": 3
   },
   "file_extension": ".py",
   "mimetype": "text/x-python",
   "name": "python",
   "nbconvert_exporter": "python",
   "pygments_lexer": "ipython3",
   "version": "3.7.4"
  }
 },
 "nbformat": 4,
 "nbformat_minor": 2
}
