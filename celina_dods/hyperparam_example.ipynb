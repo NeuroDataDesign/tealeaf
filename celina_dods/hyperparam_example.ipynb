{
 "cells": [
  {
   "cell_type": "code",
   "execution_count": 1,
   "metadata": {},
   "outputs": [],
   "source": [
    "import hyperparam_optimization as ho\n",
    "import numpy as np\n",
    "import math\n",
    "\n",
    "from rerf.rerfClassifier import rerfClassifier\n",
    "from sklearn.ensemble import RandomForestClassifier\n",
    "\n",
    "import openml\n",
    "from sklearn.model_selection import train_test_split\n",
    "from sklearn import metrics\n",
    "\n",
    "from warnings import simplefilter\n",
    "simplefilter(action='ignore', category=FutureWarning)\n",
    "from warnings import simplefilter\n",
    "simplefilter(action='ignore', category=FutureWarning)"
   ]
  },
  {
   "cell_type": "code",
   "execution_count": 2,
   "metadata": {},
   "outputs": [],
   "source": [
    "# get some data\n",
    "task_id = 146821 #car\n",
    "openml.config.apikey = 'c9ea8896542dd998ea42685f14e2bc14'\n",
    "benchmark_suite = openml.study.get_suite('OpenML-CC18')\n",
    "task = openml.tasks.get_task(task_id)\n",
    "X, y = task.get_X_and_y()\n",
    "n_features = np.shape(X)[1]\n",
    "n_samples = np.shape(X)[0]\n",
    "\n",
    "# build a classifier\n",
    "rerf = rerfClassifier()\n",
    "\n",
    "#specify max_depth and min_sample_splits ranges\n",
    "max_depth_array_rerf = (np.unique(np.round((np.linspace(2,n_samples,\n",
    "                    10))))).astype(int)\n",
    "max_depth_range_rerf = np.append(max_depth_array_rerf, None)\n",
    "\n",
    "min_sample_splits_range_rerf = (np.unique(np.round((np.arange(1,math.log(n_samples),\n",
    "                            (math.log(n_samples)-2)/10))))).astype(int)\n",
    "\n",
    "# specify parameters and distributions to sample from\n",
    "rerf_param_dict = {\"n_estimators\": np.arange(50,550,50),\n",
    "              \"max_depth\": max_depth_range_rerf,\n",
    "              \"min_samples_split\": min_sample_splits_range_rerf,\n",
    "              \"feature_combinations\": [1,2,3,4,5], \n",
    "              \"max_features\": [\"sqrt\",\"log2\", None, n_features**2]}\n",
    "\n",
    "#build another classifier\n",
    "rf = RandomForestClassifier()\n",
    "\n",
    "#specify max_depth and min_sample_splits ranges\n",
    "max_depth_array_rf = (np.unique(np.round((np.linspace(2,n_samples,\n",
    "                    10))))).astype(int)\n",
    "max_depth_range_rf = np.append(max_depth_array_rf, None)\n",
    "\n",
    "min_sample_splits_range_rf = (np.unique(np.round((np.arange(2,math.log(n_samples),\n",
    "                            (math.log(n_samples)-2)/10))))).astype(int)\n",
    "\n",
    "# specify parameters and distributions to sample from\n",
    "rf_param_dict = {\"n_estimators\": np.arange(50,550,50),\n",
    "              \"max_depth\": max_depth_range_rf,\n",
    "              \"min_samples_split\": min_sample_splits_range_rf, \n",
    "              \"max_features\": [\"sqrt\",\"log2\", None]}"
   ]
  },
  {
   "cell_type": "code",
   "execution_count": 3,
   "metadata": {
    "scrolled": true
   },
   "outputs": [
    {
     "name": "stdout",
     "output_type": "stream",
     "text": [
      "{rerfClassifier(feature_combinations=1.5, image_height=None, image_width=None,\n",
      "               max_depth=None, max_features='auto', min_samples_split=1,\n",
      "               n_estimators=500, n_jobs=None, oob_score=False,\n",
      "               patch_height_max=None, patch_height_min=1, patch_width_max=None,\n",
      "               patch_width_min=1, projection_matrix='RerF', random_state=None): {'n_estimators': 500, 'min_samples_split': 2, 'max_features': 36, 'max_depth': 577, 'feature_combinations': 3}, RandomForestClassifier(bootstrap=True, class_weight=None, criterion='gini',\n",
      "                       max_depth=None, max_features='auto', max_leaf_nodes=None,\n",
      "                       min_impurity_decrease=0.0, min_impurity_split=None,\n",
      "                       min_samples_leaf=1, min_samples_split=2,\n",
      "                       min_weight_fraction_leaf=0.0, n_estimators='warn',\n",
      "                       n_jobs=None, oob_score=False, random_state=None,\n",
      "                       verbose=0, warm_start=False): {'n_estimators': 350, 'min_samples_split': 3, 'max_features': None, 'max_depth': 1536}}\n"
     ]
    }
   ],
   "source": [
    "#get best parameters dictionary\n",
    "best_params = ho.hyperparameter_optimization_random(X, y, \n",
    "                                        (rerf, rerf_param_dict), (rf, rf_param_dict))\n",
    "print(best_params)"
   ]
  },
  {
   "cell_type": "code",
   "execution_count": 4,
   "metadata": {},
   "outputs": [],
   "source": [
    "#extract values from dict - seperate each classifier's param dict\n",
    "keys, values = zip(*best_params.items())\n",
    "    \n",
    "#train test split\n",
    "X_train, X_test, y_train, y_test = train_test_split(X, y, test_size=0.33, random_state=42)\n",
    "\n",
    "#get accuracies of optimized and default models\n",
    "rerf_opti = rerfClassifier(**values[0])\n",
    "rerf_opti.fit(X_train, y_train)\n",
    "rerf_pred_opti = rerf_opti.predict(X_test)\n",
    "rerf_acc_opti = metrics.accuracy_score(y_test, rerf_pred_opti)\n",
    "    \n",
    "rerf_default = rerfClassifier()\n",
    "rerf_default.fit(X_train, y_train)\n",
    "rerf_pred_default = rerf_default.predict(X_test)\n",
    "rerf_acc_default = metrics.accuracy_score(y_test, rerf_pred_default)\n",
    "\n",
    "rf_opti = RandomForestClassifier(**values[1])\n",
    "rf_opti.fit(X_train, y_train)\n",
    "rf_pred_opti = rf_opti.predict(X_test)\n",
    "rf_acc_opti = metrics.accuracy_score(y_test, rf_pred_opti)\n",
    "    \n",
    "rf_default = RandomForestClassifier()\n",
    "rf_default.fit(X_train, y_train)\n",
    "rf_pred_default = rf_default.predict(X_test)\n",
    "rf_acc_default = metrics.accuracy_score(y_test, rf_pred_default)"
   ]
  },
  {
   "cell_type": "code",
   "execution_count": 17,
   "metadata": {},
   "outputs": [
    {
     "data": {
      "image/png": "[encoded data removed]",
      "text/plain": [
       "<Figure size 432x288 with 1 Axes>"
      ]
     },
     "metadata": {
      "needs_background": "light"
     },
     "output_type": "display_data"
    }
   ],
   "source": [
    "#plot accuracies\n",
    "\n",
    "import matplotlib\n",
    "import matplotlib.pyplot as plt\n",
    "import numpy as np\n",
    "\n",
    "labels = ['SPORF', 'RF']\n",
    "rerf_acc = [rerf_acc_opti, rerf_acc_default]\n",
    "rf_acc = [rf_acc_opti, rf_acc_default]\n",
    "\n",
    "x = np.arange(len(labels))  # the label locations\n",
    "width = 0.35  # the width of the bars \n",
    "\n",
    "fig, ax = plt.subplots()\n",
    "rects1 = ax.bar(x - width/2, rerf_acc, width, label='Optimized')\n",
    "rects2 = ax.bar(x + width/2, rf_acc, width, label='Default')\n",
    "\n",
    "# Add some text for labels, title and custom x-axis tick labels, etc.\n",
    "ax.set_ylabel('Accuracy')\n",
    "ax.set_title('Accuracy of Optimized/Default SPORF and RF Models on car Dataset')\n",
    "ax.set_xticks(x)\n",
    "ax.set_xticklabels(labels)\n",
    "ax.legend()\n",
    "\n",
    "\n",
    "def autolabel(rects):\n",
    "    \"\"\"Attach a text label above each bar in *rects*, displaying its height.\"\"\"\n",
    "    for rect in rects:\n",
    "        height = float('%.3f'%(rect.get_height()))\n",
    "        ax.annotate('{}'.format(height),\n",
    "                    xy=(rect.get_x() + rect.get_width() / 2, height),\n",
    "                    xytext=(0, 3),  # 3 points vertical offset\n",
    "                    textcoords=\"offset points\",\n",
    "                    ha='center', va='bottom')\n",
    "\n",
    "\n",
    "autolabel(rects1)\n",
    "autolabel(rects2)\n",
    "\n",
    "fig.tight_layout()\n",
    "\n",
    "plt.ylim((.9, 1))\n",
    "plt.show()"
   ]
  }
 ],
 "metadata": {
  "kernelspec": {
   "display_name": "Python 3",
   "language": "python",
   "name": "python3"
  },
  "language_info": {
   "codemirror_mode": {
    "name": "ipython",
    "version": 3
   },
   "file_extension": ".py",
   "mimetype": "text/x-python",
   "name": "python",
   "nbconvert_exporter": "python",
   "pygments_lexer": "ipython3",
   "version": "3.7.3"
  }
 },
 "nbformat": 4,
 "nbformat_minor": 2
}
