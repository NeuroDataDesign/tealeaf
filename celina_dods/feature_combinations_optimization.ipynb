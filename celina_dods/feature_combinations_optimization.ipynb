{
 "cells": [
  {
   "cell_type": "markdown",
   "metadata": {},
   "source": [
    "# Optimize feature_combination\n"
   ]
  },
  {
   "cell_type": "markdown",
   "metadata": {},
   "source": [
    "# letter"
   ]
  },
  {
   "cell_type": "code",
   "execution_count": 3,
   "metadata": {},
   "outputs": [],
   "source": [
    "import numpy as np\n",
    "\n",
    "from time import time\n",
    "from scipy.stats import randint as sp_randint\n",
    "\n",
    "from sklearn.model_selection import GridSearchCV\n",
    "from sklearn.model_selection import RandomizedSearchCV\n",
    "from sklearn.datasets import load_digits\n",
    "\n",
    "import openml\n",
    "from rerf.rerfClassifier import rerfClassifier\n",
    "from sklearn.model_selection import KFold\n",
    "\n",
    "# get some data\n",
    "task_id = 6 #letter\n",
    "openml.config.apikey = 'c9ea8896542dd998ea42685f14e2bc14'\n",
    "benchmark_suite = openml.study.get_suite('OpenML-CC18')\n",
    "task = openml.tasks.get_task(task_id)\n",
    "X, y = task.get_X_and_y()\n"
   ]
  },
  {
   "cell_type": "code",
   "execution_count": 4,
   "metadata": {},
   "outputs": [
    {
     "name": "stdout",
     "output_type": "stream",
     "text": [
      "RandomizedSearchCV took 374.06 seconds for 5 candidates parameter settings.\n",
      "Model with rank: 1\n",
      "Mean validation score: 0.967 (std: 0.003)\n",
      "Parameters: {'feature_combinations': 3}\n",
      "\n",
      "Model with rank: 2\n",
      "Mean validation score: 0.967 (std: 0.004)\n",
      "Parameters: {'feature_combinations': 1}\n",
      "\n",
      "Model with rank: 3\n",
      "Mean validation score: 0.966 (std: 0.003)\n",
      "Parameters: {'feature_combinations': 2}\n",
      "\n"
     ]
    }
   ],
   "source": [
    "# build a classifier\n",
    "clf = rerfClassifier(n_estimators=100)\n",
    "\n",
    "\n",
    "# Utility function to report best scores\n",
    "def report(results, n_top=3):\n",
    "    for i in range(1, n_top + 1):\n",
    "        candidates = np.flatnonzero(results['rank_test_score'] == i)\n",
    "        for candidate in candidates:\n",
    "            print(\"Model with rank: {0}\".format(i))\n",
    "            print(\"Mean validation score: {0:.3f} (std: {1:.3f})\".format(\n",
    "                  results['mean_test_score'][candidate],\n",
    "                  results['std_test_score'][candidate]))\n",
    "            print(\"Parameters: {0}\".format(results['params'][candidate]))\n",
    "            print(\"\")\n",
    "\n",
    "\n",
    "# specify parameters and distributions to sample from\n",
    "param_dist = {\"feature_combinations\": [1,2,3,4,5]}\n",
    "\n",
    "# run randomized search\n",
    "n_iter_search = 5\n",
    "random_search = RandomizedSearchCV(clf, param_distributions=param_dist,\n",
    "                                   n_iter=n_iter_search, cv=5, iid=False)\n",
    "\n",
    "start = time()\n",
    "random_search.fit(X, y)\n",
    "print(\"RandomizedSearchCV took %.2f seconds for %d candidates\"\n",
    "      \" parameter settings.\" % ((time() - start), n_iter_search))\n",
    "report(random_search.cv_results_)\n"
   ]
  },
  {
   "cell_type": "code",
   "execution_count": 14,
   "metadata": {},
   "outputs": [
    {
     "data": {
      "text/plain": [
       "{'mean_fit_time': array([ 6.95003166,  8.71380935, 10.67128987, 16.53882613, 18.90900826]),\n",
       " 'std_fit_time': array([0.19383065, 0.2445438 , 0.01163628, 1.70139803, 1.08024596]),\n",
       " 'mean_score_time': array([0.22166543, 0.2465097 , 0.28311844, 0.54449978, 0.59117389]),\n",
       " 'std_score_time': array([0.00958569, 0.00685667, 0.0080724 , 0.12516745, 0.20713825]),\n",
       " 'param_feature_combinations': masked_array(data=[1, 2, 3, 4, 5],\n",
       "              mask=[False, False, False, False, False],\n",
       "        fill_value='?',\n",
       "             dtype=object),\n",
       " 'params': [{'feature_combinations': 1},\n",
       "  {'feature_combinations': 2},\n",
       "  {'feature_combinations': 3},\n",
       "  {'feature_combinations': 4},\n",
       "  {'feature_combinations': 5}],\n",
       " 'split0_test_score': array([0.96783844, 0.96509599, 0.9670905 , 0.96634256, 0.96459736]),\n",
       " 'split1_test_score': array([0.96355467, 0.96630055, 0.96704943, 0.96704943, 0.96630055]),\n",
       " 'split2_test_score': array([0.96251874, 0.96501749, 0.96301849, 0.96376812, 0.96226887]),\n",
       " 'split3_test_score': array([0.96393689, 0.96568996, 0.96168295, 0.95967944, 0.95992988]),\n",
       " 'split4_test_score': array([0.97141424, 0.97392177, 0.97166499, 0.96865597, 0.9721665 ]),\n",
       " 'mean_test_score': array([0.9658526 , 0.96720515, 0.96610127, 0.9650991 , 0.96505263]),\n",
       " 'std_test_score': array([0.00331483, 0.00339003, 0.00351732, 0.00313514, 0.00415605]),\n",
       " 'rank_test_score': array([3, 1, 2, 4, 5], dtype=int32)}"
      ]
     },
     "execution_count": 14,
     "metadata": {},
     "output_type": "execute_result"
    }
   ],
   "source": [
    "random_search.cv_results_"
   ]
  },
  {
   "cell_type": "code",
   "execution_count": 6,
   "metadata": {},
   "outputs": [
    {
     "data": {
      "image/png": "[encoded data removed]",
      "text/plain": [
       "<Figure size 432x288 with 1 Axes>"
      ]
     },
     "metadata": {
      "needs_background": "light"
     },
     "output_type": "display_data"
    }
   ],
   "source": [
    "import matplotlib.pyplot as plt\n",
    "\n",
    "param_values= []\n",
    "for i in random_search.cv_results_['params']:\n",
    "    for j in i:\n",
    "        value = i.get(j)\n",
    "        param_values.append(value)\n",
    "\n",
    "plt.plot (param_values, random_search.cv_results_['split0_test_score'], 'r.', \n",
    "        param_values, random_search.cv_results_['split1_test_score'], 'b.',\n",
    "        param_values, random_search.cv_results_['split2_test_score'], 'g.',\n",
    "        param_values, random_search.cv_results_['split3_test_score'], 'y.',\n",
    "        param_values, random_search.cv_results_['split4_test_score'], 'm.',\n",
    "        param_values, random_search.cv_results_['mean_test_score'], '-o')\n",
    "plt.ylabel('Accuracy (%)')\n",
    "plt.xlabel('feature_combinations')\n",
    "plt.title('feature_combinations Optimization on letters Dataset')\n",
    "plt.show()\n"
   ]
  },
  {
   "cell_type": "markdown",
   "metadata": {},
   "source": [
    "# kc2"
   ]
  },
  {
   "cell_type": "code",
   "execution_count": 7,
   "metadata": {},
   "outputs": [
    {
     "name": "stdout",
     "output_type": "stream",
     "text": [
      "RandomizedSearchCV took 4.40 seconds for 5 candidates parameter settings.\n",
      "Model with rank: 1\n",
      "Mean validation score: 0.814 (std: 0.076)\n",
      "Parameters: {'feature_combinations': 2}\n",
      "\n",
      "Model with rank: 2\n",
      "Mean validation score: 0.801 (std: 0.085)\n",
      "Parameters: {'feature_combinations': 5}\n",
      "\n",
      "Model with rank: 3\n",
      "Mean validation score: 0.799 (std: 0.075)\n",
      "Parameters: {'feature_combinations': 3}\n",
      "\n"
     ]
    },
    {
     "ename": "TypeError",
     "evalue": "title() missing 1 required positional argument: 'label'",
     "output_type": "error",
     "traceback": [
      "\u001b[0;31m---------------------------------------------------------------------------\u001b[0m",
      "\u001b[0;31mTypeError\u001b[0m                                 Traceback (most recent call last)",
      "\u001b[0;32m<ipython-input-7-3be9fdd5cbb0>\u001b[0m in \u001b[0;36m<module>\u001b[0;34m\u001b[0m\n\u001b[1;32m     32\u001b[0m \u001b[0mplt\u001b[0m\u001b[0;34m.\u001b[0m\u001b[0mxlabel\u001b[0m\u001b[0;34m(\u001b[0m\u001b[0;34m'feature_combinations'\u001b[0m\u001b[0;34m)\u001b[0m\u001b[0;34m\u001b[0m\u001b[0;34m\u001b[0m\u001b[0m\n\u001b[1;32m     33\u001b[0m \u001b[0mplt\u001b[0m\u001b[0;34m.\u001b[0m\u001b[0mtitle\u001b[0m\u001b[0;34m(\u001b[0m\u001b[0;34m'feature_combinations Optimization on kc2 Dataset'\u001b[0m\u001b[0;34m)\u001b[0m\u001b[0;34m\u001b[0m\u001b[0;34m\u001b[0m\u001b[0m\n\u001b[0;32m---> 34\u001b[0;31m \u001b[0mplt\u001b[0m\u001b[0;34m.\u001b[0m\u001b[0mtitle\u001b[0m\u001b[0;34m(\u001b[0m\u001b[0;34m)\u001b[0m\u001b[0;34m\u001b[0m\u001b[0;34m\u001b[0m\u001b[0m\n\u001b[0m\u001b[1;32m     35\u001b[0m \u001b[0mplt\u001b[0m\u001b[0;34m.\u001b[0m\u001b[0mshow\u001b[0m\u001b[0;34m(\u001b[0m\u001b[0;34m)\u001b[0m\u001b[0;34m\u001b[0m\u001b[0;34m\u001b[0m\u001b[0m\n",
      "\u001b[0;31mTypeError\u001b[0m: title() missing 1 required positional argument: 'label'"
     ]
    },
    {
     "data": {
      "image/png": "[encoded data removed]",
      "text/plain": [
       "<Figure size 432x288 with 1 Axes>"
      ]
     },
     "metadata": {
      "needs_background": "light"
     },
     "output_type": "display_data"
    }
   ],
   "source": [
    "# get some data\n",
    "task_id = 3913 #kc2\n",
    "openml.config.apikey = 'c9ea8896542dd998ea42685f14e2bc14'\n",
    "benchmark_suite = openml.study.get_suite('OpenML-CC18')\n",
    "task = openml.tasks.get_task(task_id)\n",
    "X, y = task.get_X_and_y()\n",
    "\n",
    "# run randomized search\n",
    "n_iter_search = 5\n",
    "random_search = RandomizedSearchCV(clf, param_distributions=param_dist,\n",
    "                                   n_iter=n_iter_search, cv=5, iid=False)\n",
    "\n",
    "start = time()\n",
    "random_search.fit(X, y)\n",
    "print(\"RandomizedSearchCV took %.2f seconds for %d candidates\"\n",
    "      \" parameter settings.\" % ((time() - start), n_iter_search))\n",
    "report(random_search.cv_results_)\n",
    "\n",
    "param_values= []\n",
    "for i in random_search.cv_results_['params']:\n",
    "    for j in i:\n",
    "        value = i.get(j)\n",
    "        param_values.append(value)\n",
    "\n",
    "plt.plot (param_values, random_search.cv_results_['split0_test_score'], 'r.', \n",
    "        param_values, random_search.cv_results_['split1_test_score'], 'b.',\n",
    "        param_values, random_search.cv_results_['split2_test_score'], 'g.',\n",
    "        param_values, random_search.cv_results_['split3_test_score'], 'y.',\n",
    "        param_values, random_search.cv_results_['split4_test_score'], 'm.',\n",
    "        param_values, random_search.cv_results_['mean_test_score'], '-o')\n",
    "plt.ylabel('Accuracy (%)')\n",
    "plt.xlabel('feature_combinations')\n",
    "plt.title('feature_combinations Optimization on kc2 Dataset')\n",
    "plt.title()\n",
    "plt.show()"
   ]
  },
  {
   "cell_type": "code",
   "execution_count": 10,
   "metadata": {},
   "outputs": [
    {
     "name": "stdout",
     "output_type": "stream",
     "text": [
      "RandomizedSearchCV took 17.04 seconds for 5 candidates parameter settings.\n",
      "Model with rank: 1\n",
      "Mean validation score: 0.905 (std: 0.008)\n",
      "Parameters: {'feature_combinations': 4}\n",
      "\n",
      "Model with rank: 2\n",
      "Mean validation score: 0.904 (std: 0.006)\n",
      "Parameters: {'feature_combinations': 3}\n",
      "\n",
      "Model with rank: 3\n",
      "Mean validation score: 0.903 (std: 0.006)\n",
      "Parameters: {'feature_combinations': 1}\n",
      "\n"
     ]
    },
    {
     "data": {
      "image/png": "[encoded data removed]",
      "text/plain": [
       "<Figure size 432x288 with 1 Axes>"
      ]
     },
     "metadata": {
      "needs_background": "light"
     },
     "output_type": "display_data"
    }
   ],
   "source": [
    "# get some data\n",
    "task_id = 3903 #pc3\n",
    "openml.config.apikey = 'c9ea8896542dd998ea42685f14e2bc14'\n",
    "benchmark_suite = openml.study.get_suite('OpenML-CC18')\n",
    "task = openml.tasks.get_task(task_id)\n",
    "X, y = task.get_X_and_y()\n",
    "\n",
    "# run randomized search\n",
    "n_iter_search = 5\n",
    "random_search = RandomizedSearchCV(clf, param_distributions=param_dist,\n",
    "                                   n_iter=n_iter_search, cv=5, iid=False)\n",
    "\n",
    "start = time()\n",
    "random_search.fit(X, y)\n",
    "print(\"RandomizedSearchCV took %.2f seconds for %d candidates\"\n",
    "      \" parameter settings.\" % ((time() - start), n_iter_search))\n",
    "report(random_search.cv_results_)\n",
    "\n",
    "\n",
    "param_values= []\n",
    "for i in random_search.cv_results_['params']:\n",
    "    for j in i:\n",
    "        value = i.get(j)\n",
    "        param_values.append(value)\n",
    "\n",
    "plt.plot (param_values, random_search.cv_results_['split0_test_score'], 'r.', \n",
    "        param_values, random_search.cv_results_['split1_test_score'], 'b.',\n",
    "        param_values, random_search.cv_results_['split2_test_score'], 'g.',\n",
    "        param_values, random_search.cv_results_['split3_test_score'], 'y.',\n",
    "        param_values, random_search.cv_results_['split4_test_score'], 'm.',\n",
    "        param_values, random_search.cv_results_['mean_test_score'], '-o')\n",
    "plt.ylabel('Accuracy (%)')\n",
    "plt.xlabel('feature_combinations')\n",
    "plt.title('feature_combinations Optimization on pc3 Dataset')\n",
    "plt.show()"
   ]
  },
  {
   "cell_type": "code",
   "execution_count": 79,
   "metadata": {},
   "outputs": [
    {
     "name": "stdout",
     "output_type": "stream",
     "text": [
      "RandomizedSearchCV took 4.80 seconds for 5 candidates parameter settings.\n",
      "Model with rank: 1\n",
      "Mean validation score: 0.771 (std: 0.034)\n",
      "Parameters: {'feature_combinations': 2}\n",
      "\n",
      "Model with rank: 2\n",
      "Mean validation score: 0.753 (std: 0.048)\n",
      "Parameters: {'feature_combinations': 5}\n",
      "\n",
      "Model with rank: 3\n",
      "Mean validation score: 0.753 (std: 0.038)\n",
      "Parameters: {'feature_combinations': 4}\n",
      "\n"
     ]
    }
   ],
   "source": [
    "# get some data\n",
    "task_id = 37 #diabetes\n",
    "openml.config.apikey = 'c9ea8896542dd998ea42685f14e2bc14'\n",
    "benchmark_suite = openml.study.get_suite('OpenML-CC18')\n",
    "task = openml.tasks.get_task(task_id)\n",
    "X, y = task.get_X_and_y()\n",
    "\n",
    "# run randomized search\n",
    "n_iter_search = 5\n",
    "random_search = RandomizedSearchCV(clf, param_distributions=param_dist,\n",
    "                                   n_iter=n_iter_search, cv=5, iid=False)\n",
    "\n",
    "start = time()\n",
    "random_search.fit(X, y)\n",
    "print(\"RandomizedSearchCV took %.2f seconds for %d candidates\"\n",
    "      \" parameter settings.\" % ((time() - start), n_iter_search))\n",
    "report(random_search.cv_results_)\n",
    "\n"
   ]
  },
  {
   "cell_type": "code",
   "execution_count": 11,
   "metadata": {},
   "outputs": [
    {
     "name": "stdout",
     "output_type": "stream",
     "text": [
      "RandomizedSearchCV took 8.22 seconds for 5 candidates parameter settings.\n",
      "Model with rank: 1\n",
      "Mean validation score: 0.853 (std: 0.045)\n",
      "Parameters: {'feature_combinations': 4}\n",
      "\n",
      "Model with rank: 2\n",
      "Mean validation score: 0.852 (std: 0.055)\n",
      "Parameters: {'feature_combinations': 5}\n",
      "\n",
      "Model with rank: 3\n",
      "Mean validation score: 0.849 (std: 0.041)\n",
      "Parameters: {'feature_combinations': 2}\n",
      "\n"
     ]
    },
    {
     "data": {
      "image/png": "[encoded data removed]",
      "text/plain": [
       "<Figure size 432x288 with 1 Axes>"
      ]
     },
     "metadata": {
      "needs_background": "light"
     },
     "output_type": "display_data"
    }
   ],
   "source": [
    "# get some data\n",
    "task_id = 146821 #car\n",
    "openml.config.apikey = 'c9ea8896542dd998ea42685f14e2bc14'\n",
    "benchmark_suite = openml.study.get_suite('OpenML-CC18')\n",
    "task = openml.tasks.get_task(task_id)\n",
    "X, y = task.get_X_and_y()\n",
    "\n",
    "# run randomized search\n",
    "n_iter_search = 5\n",
    "random_search = RandomizedSearchCV(clf, param_distributions=param_dist,\n",
    "                                   n_iter=n_iter_search, cv=5, iid=False)\n",
    "\n",
    "start = time()\n",
    "random_search.fit(X, y)\n",
    "print(\"RandomizedSearchCV took %.2f seconds for %d candidates\"\n",
    "      \" parameter settings.\" % ((time() - start), n_iter_search))\n",
    "report(random_search.cv_results_)\n",
    "\n",
    "\n",
    "param_values= []\n",
    "for i in random_search.cv_results_['params']:\n",
    "    for j in i:\n",
    "        value = i.get(j)\n",
    "        param_values.append(value)\n",
    "\n",
    "plt.plot (param_values, random_search.cv_results_['split0_test_score'], 'r.', \n",
    "        param_values, random_search.cv_results_['split1_test_score'], 'b.',\n",
    "        param_values, random_search.cv_results_['split2_test_score'], 'g.',\n",
    "        param_values, random_search.cv_results_['split3_test_score'], 'y.',\n",
    "        param_values, random_search.cv_results_['split4_test_score'], 'm.',\n",
    "        param_values, random_search.cv_results_['mean_test_score'], '-o')\n",
    "plt.ylabel('Accuracy (%)')\n",
    "plt.xlabel('feature_combinations')\n",
    "plt.title('feature_combinations Optimization on car Dataset')\n",
    "plt.show()"
   ]
  }
 ],
 "metadata": {
  "kernelspec": {
   "display_name": "Python 3",
   "language": "python",
   "name": "python3"
  },
  "language_info": {
   "codemirror_mode": {
    "name": "ipython",
    "version": 3
   },
   "file_extension": ".py",
   "mimetype": "text/x-python",
   "name": "python",
   "nbconvert_exporter": "python",
   "pygments_lexer": "ipython3",
   "version": "3.7.3"
  }
 },
 "nbformat": 4,
 "nbformat_minor": 2
}
