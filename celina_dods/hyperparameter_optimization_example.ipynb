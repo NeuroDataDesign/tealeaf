{
 "cells": [
  {
   "cell_type": "markdown",
   "metadata": {},
   "source": [
    "# Hyperparameter Optimization Example\n",
    "\n"
   ]
  },
  {
   "cell_type": "markdown",
   "metadata": {},
   "source": [
    "SPORF example using car dataset"
   ]
  },
  {
   "cell_type": "code",
   "execution_count": 1,
   "metadata": {},
   "outputs": [],
   "source": [
    "import numpy as np\n",
    "from sklearn.model_selection import RandomizedSearchCV\n",
    "from sklearn.model_selection import GridSearchCV\n",
    "import openml\n",
    "from rerf.rerfClassifier import rerfClassifier\n",
    "from sklearn.model_selection import KFold\n",
    "from sklearn.ensemble import RandomForestClassifier"
   ]
  },
  {
   "cell_type": "code",
   "execution_count": 2,
   "metadata": {},
   "outputs": [],
   "source": [
    "def hyperparameter_optimization(X,y,*argv):\n",
    "    \n",
    "    clf_best_params = {}\n",
    "    for clf, params in argv:\n",
    "\n",
    "        # run randomized search     \n",
    "        n_iter_search = 10\n",
    "        random_search = RandomizedSearchCV(clf, param_distributions=param_dist,\n",
    "                                           n_iter=n_iter_search, cv=10, iid=False)\n",
    "        random_search.fit(X, y)       \n",
    "        clf_best_params[clf] = random_search.best_params_  \n",
    "    return clf_best_params\n",
    "\n",
    "def hyperparameter_optimization_grid(X, y, *argv):    \n",
    "    clf_best_params = {}\n",
    "\n",
    "    # Iterate over all (classifier, hyperparameters) pairs\n",
    "    for clf, params in argv:\n",
    "\n",
    "        # Run grid search\n",
    "        grid_search = GridSearchCV(\n",
    "            clf, param_grid=params, cv=10, iid=False\n",
    "        )\n",
    "        grid_search.fit(X, y)\n",
    "\n",
    "        # Save results\n",
    "        clf_best_params[clf] = grid_search.best_params_\n",
    "\n",
    "    return clf_best_params        \n",
    "        "
   ]
  },
  {
   "cell_type": "code",
   "execution_count": 3,
   "metadata": {},
   "outputs": [],
   "source": [
    "from scipy.stats import randint as sp_randint\n",
    "import math\n",
    "from math import log\n",
    "\n",
    "# get some data\n",
    "task_id = 146821 #car\n",
    "openml.config.apikey = 'c9ea8896542dd998ea42685f14e2bc14'\n",
    "benchmark_suite = openml.study.get_suite('OpenML-CC18')\n",
    "task = openml.tasks.get_task(task_id)\n",
    "X, y = task.get_X_and_y()\n",
    "n_features = np.shape(X)[1]\n",
    "n_samples = np.shape(X)[0]\n",
    "\n",
    "\n",
    "# build a classifier\n",
    "clf = rerfClassifier(n_estimators=100)\n",
    "\n",
    "#specify max_depth and min_sample_splits ranges\n",
    "max_depth_array = (np.unique(np.round((np.arange(2,math.log(n_samples),\n",
    "                    (math.log(n_samples)-2)/10))))).astype(int)\n",
    "max_depth_range = np.append(max_depth_array, None)\n",
    "\n",
    "min_sample_splits_range = (np.unique(np.round((np.arange(1,math.log(n_samples),\n",
    "                            (math.log(n_samples)-2)/10))))).astype(int)\n",
    "\n",
    "# specify parameters and distributions to sample from\n",
    "param_dist = {\"n_estimators\": np.arange(50,550,50),\n",
    "              \"max_depth\": max_depth_range,\n",
    "              \"min_samples_split\": min_sample_splits_range,\n",
    "              \"feature_combinations\": [1,2,3,4,5], \n",
    "              \"max_features\": [\"auto\", \"sqrt\",\"log2\", None, n_features**2]}"
   ]
  },
  {
   "cell_type": "code",
   "execution_count": 3,
   "metadata": {},
   "outputs": [
    {
     "name": "stdout",
     "output_type": "stream",
     "text": [
      "{rerfClassifier(feature_combinations=1.5, image_height=None, image_width=None,\n",
      "               max_depth=None, max_features='auto', min_samples_split=1,\n",
      "               n_estimators=100, n_jobs=None, oob_score=False,\n",
      "               patch_height_max=None, patch_height_min=1, patch_width_max=None,\n",
      "               patch_width_min=1, projection_matrix='RerF', random_state=None): {'feature_combinations': 3, 'max_depth': None, 'max_features': 36, 'min_samples_split': 2, 'n_estimators': 302}}\n"
     ]
    }
   ],
   "source": [
    "clf_best_params = hyperparameter_optimization(X, y, (clf, param_dist))\n",
    "print(clf_best_params)"
   ]
  },
  {
   "cell_type": "code",
   "execution_count": 16,
   "metadata": {},
   "outputs": [
    {
     "data": {
      "text/plain": [
       "{rerfClassifier(feature_combinations=1.5, image_height=None, image_width=None,\n",
       "                max_depth=None, max_features='auto', min_samples_split=1,\n",
       "                n_estimators=100, n_jobs=None, oob_score=False,\n",
       "                patch_height_max=None, patch_height_min=1, patch_width_max=None,\n",
       "                patch_width_min=1, projection_matrix='RerF', random_state=None): {'feature_combinations': 2,\n",
       "  'max_depth': 8,\n",
       "  'max_features': None,\n",
       "  'min_samples_split': 3,\n",
       "  'n_estimators': 203,\n",
       "  'n_jobs': None,\n",
       "  'oob_score': True}}"
      ]
     },
     "execution_count": 16,
     "metadata": {},
     "output_type": "execute_result"
    }
   ],
   "source": [
    "clf_best_params"
   ]
  },
  {
   "cell_type": "code",
   "execution_count": null,
   "metadata": {},
   "outputs": [],
   "source": [
    "clf_best_params_grid = hyperparameter_optimization_grid(X, y, (clf, param_dist))\n",
    "clf_best_params_grid"
   ]
  },
  {
   "cell_type": "code",
   "execution_count": 2,
   "metadata": {},
   "outputs": [],
   "source": [
    "from scipy.stats import randint as sp_randint\n",
    "import math\n",
    "from math import log\n",
    "\n",
    "# get some data\n",
    "task_id = 146821 #car\n",
    "openml.config.apikey = 'c9ea8896542dd998ea42685f14e2bc14'\n",
    "benchmark_suite = openml.study.get_suite('OpenML-CC18')\n",
    "task = openml.tasks.get_task(task_id)\n",
    "X, y = task.get_X_and_y()\n",
    "n_features = np.shape(X)[1]\n",
    "n_samples = np.shape(X)[0]\n",
    "\n",
    "\n",
    "# build a classifier\n",
    "clf = RandomForestClassifier(n_estimators=100)\n",
    "\n",
    "#specify max_depth and min_sample_splits ranges\n",
    "max_depth_array = (np.unique(np.round((np.arange(2,math.log(n_samples),\n",
    "                    (math.log(n_samples)-2)/10))))).astype(int)\n",
    "max_depth_range = np.append(max_depth_array, None)\n",
    "\n",
    "min_sample_splits_range = (np.unique(np.round((np.arange(1,math.log(n_samples),\n",
    "                            (math.log(n_samples)-2)/10))))).astype(int)\n",
    "\n",
    "# specify parameters and distributions to sample from\n",
    "param_dist = {\"n_estimators\": np.arange(50,550,50),\n",
    "              \"max_depth\": max_depth_range,\n",
    "              \"min_samples_split\": min_sample_splits_range, \n",
    "              \"max_features\": [\"auto\", \"sqrt\",\"log2\", None, n_features**2]}"
   ]
  },
  {
   "cell_type": "code",
   "execution_count": null,
   "metadata": {},
   "outputs": [],
   "source": [
    "clf_best_params_random = hyperparameter_optimization_grid(X, y, (clf, param_dist))\n",
    "clf_best_params_random"
   ]
  }
 ],
 "metadata": {
  "kernelspec": {
   "display_name": "Python 3",
   "language": "python",
   "name": "python3"
  },
  "language_info": {
   "codemirror_mode": {
    "name": "ipython",
    "version": 3
   },
   "file_extension": ".py",
   "mimetype": "text/x-python",
   "name": "python",
   "nbconvert_exporter": "python",
   "pygments_lexer": "ipython3",
   "version": "3.7.3"
  }
 },
 "nbformat": 4,
 "nbformat_minor": 2
}
