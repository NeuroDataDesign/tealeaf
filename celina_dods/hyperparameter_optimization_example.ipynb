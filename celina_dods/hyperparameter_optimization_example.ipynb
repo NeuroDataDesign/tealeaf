{
 "cells": [
  {
   "cell_type": "markdown",
   "metadata": {},
   "source": [
    "# Hyperparameter Optimization Example\n",
    "\n"
   ]
  },
  {
   "cell_type": "markdown",
   "metadata": {},
   "source": [
    "SPORF example using car dataset"
   ]
  },
  {
   "cell_type": "code",
   "execution_count": 1,
   "metadata": {},
   "outputs": [],
   "source": [
    "import numpy as np\n",
    "from sklearn.model_selection import RandomizedSearchCV\n",
    "import openml\n",
    "from rerf.rerfClassifier import rerfClassifier\n",
    "from sklearn.model_selection import KFold"
   ]
  },
  {
   "cell_type": "code",
   "execution_count": 2,
   "metadata": {},
   "outputs": [],
   "source": [
    "def hyperparameter_optimization(X,y,*argv):\n",
    "    \n",
    "    clf_best_params = {}\n",
    "    for clf, params in argv:\n",
    "\n",
    "        # run randomized search     \n",
    "        n_iter_search = 10\n",
    "        random_search = RandomizedSearchCV(clf, param_distributions=param_dist,\n",
    "                                           n_iter=n_iter_search, cv=10, iid=False)\n",
    "        random_search.fit(X, y)       \n",
    "        clf_best_params[clf] = random_search.best_params_  \n",
    "    return clf_best_params\n",
    "\n",
    "    \n",
    "        \n",
    "        "
   ]
  },
  {
   "cell_type": "code",
   "execution_count": 9,
   "metadata": {},
   "outputs": [
    {
     "name": "stdout",
     "output_type": "stream",
     "text": [
      "hi\n",
      "[1.5650845800732873, 2.449489742783178, 3.833658625477635, 6, 36]\n",
      "['auto', 'sqrt', 'log2', None, 36]\n",
      "{'mean_fit_time': array([0.45968409, 0.16277921, 0.5820724 , 1.06643174, 0.20912313,\n",
      "       0.83004401, 0.9481307 , 0.93102412, 0.87239971, 0.32110779]), 'std_fit_time': array([0.06192223, 0.00459215, 0.0208882 , 0.0361885 , 0.02825598,\n",
      "       0.03797523, 0.24913775, 0.0573287 , 0.01713904, 0.01484723]), 'mean_score_time': array([0.01135879, 0.00440416, 0.01288259, 0.02554851, 0.00431411,\n",
      "       0.00763237, 0.02639852, 0.01635041, 0.00808263, 0.00789068]), 'std_score_time': array([1.83018115e-03, 7.97066651e-05, 1.59455021e-03, 6.12923126e-03,\n",
      "       7.21853613e-04, 4.21641788e-04, 8.15555234e-03, 1.27843617e-03,\n",
      "       6.22318748e-04, 4.29268589e-04]), 'param_feature_combinations': masked_array(data=[3, 1, 3, 2, 4, 2, 5, 4, 3, 3],\n",
      "             mask=[False, False, False, False, False, False, False, False,\n",
      "                   False, False],\n",
      "       fill_value='?',\n",
      "            dtype=object), 'param_max_depth': masked_array(data=[5, 5, 5, 8, 6, 8, 5, 7, 9, 5],\n",
      "             mask=[False, False, False, False, False, False, False, False,\n",
      "                   False, False],\n",
      "       fill_value='?',\n",
      "            dtype=object), 'param_max_features': masked_array(data=['sqrt', 'sqrt', 'log2', None, 'log2', None, 'sqrt',\n",
      "                   'log2', None, 'auto'],\n",
      "             mask=[False, False, False, False, False, False, False, False,\n",
      "                   False, False],\n",
      "       fill_value='?',\n",
      "            dtype=object), 'param_min_samples_split': masked_array(data=[3, 3, 3, 1, 2, 3, 2, 1, 1, 3],\n",
      "             mask=[False, False, False, False, False, False, False, False,\n",
      "                   False, False],\n",
      "       fill_value='?',\n",
      "            dtype=object), 'param_n_estimators': masked_array(data=[284, 312, 548, 441, 200, 203, 440, 457, 452, 216],\n",
      "             mask=[False, False, False, False, False, False, False, False,\n",
      "                   False, False],\n",
      "       fill_value='?',\n",
      "            dtype=object), 'param_n_jobs': masked_array(data=[3, None, None, 3, 2, None, 3, None, 3, 3],\n",
      "             mask=[False, False, False, False, False, False, False, False,\n",
      "                   False, False],\n",
      "       fill_value='?',\n",
      "            dtype=object), 'param_oob_score': masked_array(data=[True, False, False, True, False, True, True, False,\n",
      "                   False, True],\n",
      "             mask=[False, False, False, False, False, False, False, False,\n",
      "                   False, False],\n",
      "       fill_value='?',\n",
      "            dtype=object), 'params': [{'feature_combinations': 3, 'max_depth': 5, 'max_features': 'sqrt', 'min_samples_split': 3, 'n_estimators': 284, 'n_jobs': 3, 'oob_score': True}, {'feature_combinations': 1, 'max_depth': 5, 'max_features': 'sqrt', 'min_samples_split': 3, 'n_estimators': 312, 'n_jobs': None, 'oob_score': False}, {'feature_combinations': 3, 'max_depth': 5, 'max_features': 'log2', 'min_samples_split': 3, 'n_estimators': 548, 'n_jobs': None, 'oob_score': False}, {'feature_combinations': 2, 'max_depth': 8, 'max_features': None, 'min_samples_split': 1, 'n_estimators': 441, 'n_jobs': 3, 'oob_score': True}, {'feature_combinations': 4, 'max_depth': 6, 'max_features': 'log2', 'min_samples_split': 2, 'n_estimators': 200, 'n_jobs': 2, 'oob_score': False}, {'feature_combinations': 2, 'max_depth': 8, 'max_features': None, 'min_samples_split': 3, 'n_estimators': 203, 'n_jobs': None, 'oob_score': True}, {'feature_combinations': 5, 'max_depth': 5, 'max_features': 'sqrt', 'min_samples_split': 2, 'n_estimators': 440, 'n_jobs': 3, 'oob_score': True}, {'feature_combinations': 4, 'max_depth': 7, 'max_features': 'log2', 'min_samples_split': 1, 'n_estimators': 457, 'n_jobs': None, 'oob_score': False}, {'feature_combinations': 3, 'max_depth': 9, 'max_features': None, 'min_samples_split': 1, 'n_estimators': 452, 'n_jobs': 3, 'oob_score': False}, {'feature_combinations': 3, 'max_depth': 5, 'max_features': 'auto', 'min_samples_split': 3, 'n_estimators': 216, 'n_jobs': 3, 'oob_score': True}], 'split0_test_score': array([0.77586207, 0.39655172, 0.31034483, 0.86206897, 0.79310345,\n",
      "       0.88505747, 0.77586207, 0.79885057, 0.9137931 , 0.79310345]), 'split1_test_score': array([0.82758621, 0.70114943, 0.81034483, 0.84482759, 0.79310345,\n",
      "       0.86206897, 0.82758621, 0.7816092 , 0.81034483, 0.81609195]), 'split2_test_score': array([0.79885057, 0.23563218, 0.67816092, 0.90804598, 0.70689655,\n",
      "       0.90804598, 0.79885057, 0.7183908 , 0.83333333, 0.77011494]), 'split3_test_score': array([0.85057471, 0.2816092 , 0.83333333, 0.85632184, 0.79885057,\n",
      "       0.83908046, 0.84482759, 0.83333333, 0.81034483, 0.85057471]), 'split4_test_score': array([0.84971098, 0.78034682, 0.83815029, 0.93063584, 0.85549133,\n",
      "       0.92485549, 0.85549133, 0.85549133, 0.93063584, 0.84971098]), 'split5_test_score': array([0.80232558, 0.25      , 0.22674419, 0.9127907 , 0.81395349,\n",
      "       0.9127907 , 0.81395349, 0.8372093 , 0.9127907 , 0.80813953]), 'split6_test_score': array([0.87209302, 0.23255814, 0.83139535, 0.94767442, 0.85465116,\n",
      "       0.93604651, 0.88372093, 0.89534884, 0.93604651, 0.87790698]), 'split7_test_score': array([0.89534884, 0.23255814, 0.81976744, 0.98837209, 0.90116279,\n",
      "       0.97674419, 0.9127907 , 0.94767442, 0.98255814, 0.90116279]), 'split8_test_score': array([0.9244186 , 0.22093023, 0.22093023, 0.94767442, 0.89534884,\n",
      "       0.95348837, 0.93023256, 0.9244186 , 0.94186047, 0.91860465]), 'split9_test_score': array([0.87719298, 0.16959064, 0.8128655 , 0.90643275, 0.85380117,\n",
      "       0.9122807 , 0.77777778, 0.86549708, 0.87719298, 0.85380117]), 'mean_test_score': array([0.84739636, 0.35009265, 0.63820369, 0.91048446, 0.82663628,\n",
      "       0.91104588, 0.84210932, 0.84578235, 0.89489007, 0.84392112]), 'std_test_score': array([0.04432015, 0.20376955, 0.25709649, 0.04342223, 0.05490938,\n",
      "       0.0389873 , 0.05107034, 0.0650256 , 0.05651504, 0.04502139]), 'rank_test_score': array([ 4, 10,  9,  2,  8,  1,  7,  5,  3,  6], dtype=int32)}\n",
      "{rerfClassifier(feature_combinations=1.5, image_height=None, image_width=None,\n",
      "               max_depth=None, max_features='auto', min_samples_split=1,\n",
      "               n_estimators=100, n_jobs=None, oob_score=False,\n",
      "               patch_height_max=None, patch_height_min=1, patch_width_max=None,\n",
      "               patch_width_min=1, projection_matrix='RerF', random_state=None): {'feature_combinations': 2, 'max_depth': 8, 'max_features': None, 'min_samples_split': 3, 'n_estimators': 203, 'n_jobs': None, 'oob_score': True}}\n"
     ]
    }
   ],
   "source": [
    "from scipy.stats import randint as sp_randint\n",
    "\n",
    "# get some data\n",
    "task_id = 146821 #car\n",
    "openml.config.apikey = 'c9ea8896542dd998ea42685f14e2bc14'\n",
    "benchmark_suite = openml.study.get_suite('OpenML-CC18')\n",
    "task = openml.tasks.get_task(task_id)\n",
    "X, y = task.get_X_and_y()\n",
    "n_features = np.shape(X)[1]\n",
    "\n",
    "\n",
    "# build a classifier\n",
    "clf = rerfClassifier(n_estimators=100)\n",
    "max_features_candidates = [n_features**.25, n_features**.5, n_features**.75, \n",
    "                               n_features, n_features**2]\n",
    "print(max_features_candidates)\n",
    "# specify parameters and distributions to sample from\n",
    "param_dist = {\"n_estimators\": sp_randint(100,550),\n",
    "              \"max_depth\": [5,6,7,8,9,10, None],\n",
    "              \"min_samples_split\": [1,2,3],\n",
    "              \"oob_score\": [True, False],\n",
    "              \"n_jobs\" : [-1, None, 2, 3],\n",
    "              \"feature_combinations\": [1,2,3,4,5], \n",
    "              \"max_features\": [\"auto\", \"sqrt\",\"log2\", None, int(max_features_candidates[4])]}\n",
    "\n",
    "clf_best_params = hyperparameter_optimization(X, y, (clf, param_dist))\n",
    "print(clf_best_params)\n"
   ]
  },
  {
   "cell_type": "code",
   "execution_count": 16,
   "metadata": {},
   "outputs": [
    {
     "data": {
      "text/plain": [
       "{rerfClassifier(feature_combinations=1.5, image_height=None, image_width=None,\n",
       "                max_depth=None, max_features='auto', min_samples_split=1,\n",
       "                n_estimators=100, n_jobs=None, oob_score=False,\n",
       "                patch_height_max=None, patch_height_min=1, patch_width_max=None,\n",
       "                patch_width_min=1, projection_matrix='RerF', random_state=None): {'feature_combinations': 2,\n",
       "  'max_depth': 8,\n",
       "  'max_features': None,\n",
       "  'min_samples_split': 3,\n",
       "  'n_estimators': 203,\n",
       "  'n_jobs': None,\n",
       "  'oob_score': True}}"
      ]
     },
     "execution_count": 16,
     "metadata": {},
     "output_type": "execute_result"
    }
   ],
   "source": [
    "clf_best_params"
   ]
  },
  {
   "cell_type": "code",
   "execution_count": 13,
   "metadata": {},
   "outputs": [
    {
     "ename": "KeyError",
     "evalue": "'split0_test_score'",
     "output_type": "error",
     "traceback": [
      "\u001b[0;31m---------------------------------------------------------------------------\u001b[0m",
      "\u001b[0;31mKeyError\u001b[0m                                  Traceback (most recent call last)",
      "\u001b[0;32m<ipython-input-13-00de05278519>\u001b[0m in \u001b[0;36m<module>\u001b[0;34m\u001b[0m\n\u001b[1;32m      2\u001b[0m \u001b[0;34m\u001b[0m\u001b[0m\n\u001b[1;32m      3\u001b[0m \u001b[0mmodelnum\u001b[0m \u001b[0;34m=\u001b[0m \u001b[0mrange\u001b[0m\u001b[0;34m(\u001b[0m\u001b[0;36m0\u001b[0m\u001b[0;34m,\u001b[0m\u001b[0;36m10\u001b[0m\u001b[0;34m)\u001b[0m\u001b[0;34m\u001b[0m\u001b[0;34m\u001b[0m\u001b[0m\n\u001b[0;32m----> 4\u001b[0;31m plt.plot (modelnum, clf_best_params['split0_test_score'], 'r.', \n\u001b[0m\u001b[1;32m      5\u001b[0m         \u001b[0mmodelnum\u001b[0m\u001b[0;34m,\u001b[0m \u001b[0mclf_best_params\u001b[0m\u001b[0;34m[\u001b[0m\u001b[0;34m'split1_test_score'\u001b[0m\u001b[0;34m]\u001b[0m\u001b[0;34m,\u001b[0m \u001b[0;34m'b.'\u001b[0m\u001b[0;34m,\u001b[0m\u001b[0;34m\u001b[0m\u001b[0;34m\u001b[0m\u001b[0m\n\u001b[1;32m      6\u001b[0m         \u001b[0mmodelnum\u001b[0m\u001b[0;34m,\u001b[0m \u001b[0mclf_best_params\u001b[0m\u001b[0;34m[\u001b[0m\u001b[0;34m'split2_test_score'\u001b[0m\u001b[0;34m]\u001b[0m\u001b[0;34m,\u001b[0m \u001b[0;34m'g.'\u001b[0m\u001b[0;34m,\u001b[0m\u001b[0;34m\u001b[0m\u001b[0;34m\u001b[0m\u001b[0m\n",
      "\u001b[0;31mKeyError\u001b[0m: 'split0_test_score'"
     ]
    }
   ],
   "source": [
    "import matplotlib.pyplot as plt\n",
    "\n",
    "modelnum = range(0,10)\n",
    "plt.plot (modelnum, clf_best_params['split0_test_score'], 'r.', \n",
    "        modelnum, clf_best_params['split1_test_score'], 'b.',\n",
    "        modelnum, clf_best_params['split2_test_score'], 'g.',\n",
    "        modelnum, clf_best_params['split3_test_score'], 'y.',\n",
    "        modelnum, clf_best_params['split4_test_score'], 'm.',\n",
    "        modelnum, clf_best_params['split5_test_score'], 'r.', \n",
    "        modelnum, clf_best_params['split6_test_score'], 'b.',\n",
    "        modelnum, clf_best_params['split7_test_score'], 'g.',\n",
    "        modelnum, clf_best_params['split8_test_score'], 'y.',\n",
    "        modelnum, clf_best_params['split9_test_score'], 'm.',\n",
    "        modelnum, clf_best_params['mean_test_score'], '-o')\n",
    "plt.ylabel('Accuracy (%)')\n",
    "plt.xlabel('Model')\n",
    "plt.title('Hyperparameter Optimization on car Dataset')\n",
    "plt.show()"
   ]
  }
 ],
 "metadata": {
  "kernelspec": {
   "display_name": "Python 3",
   "language": "python",
   "name": "python3"
  },
  "language_info": {
   "codemirror_mode": {
    "name": "ipython",
    "version": 3
   },
   "file_extension": ".py",
   "mimetype": "text/x-python",
   "name": "python",
   "nbconvert_exporter": "python",
   "pygments_lexer": "ipython3",
   "version": "3.7.3"
  }
 },
 "nbformat": 4,
 "nbformat_minor": 2
}
