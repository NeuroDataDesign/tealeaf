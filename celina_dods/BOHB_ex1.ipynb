{
 "cells": [
  {
   "cell_type": "code",
   "execution_count": 22,
   "metadata": {},
   "outputs": [
    {
     "name": "stderr",
     "output_type": "stream",
     "text": [
      "usage: ipykernel_launcher.py [-h] [--min_budget MIN_BUDGET]\n",
      "ipykernel_launcher.py: error: unrecognized arguments: -f /Users/Celina/Library/Jupyter/runtime/kernel-fb4afb02-5ff4-4dc3-a32b-48ba611c28b0.json\n"
     ]
    },
    {
     "ename": "SystemExit",
     "evalue": "2",
     "output_type": "error",
     "traceback": [
      "An exception has occurred, use %tb to see the full traceback.\n",
      "\u001b[0;31mSystemExit\u001b[0m\u001b[0;31m:\u001b[0m 2\n"
     ]
    }
   ],
   "source": [
    "\"\"\"\n",
    "Example 1 - Local and Sequential\n",
    "================================\n",
    "\"\"\"\n",
    "import logging\n",
    "logging.basicConfig(level=logging.WARNING)\n",
    "\n",
    "import argparse\n",
    "\n",
    "import hpbandster.core.nameserver as hpns\n",
    "import hpbandster.core.result as hpres\n",
    "\n",
    "from hpbandster.optimizers import BOHB as BOHB\n",
    "from hpbandster.examples.commons import MyWorker\n",
    "\n",
    "parser = argparse.ArgumentParser(description='Example 1 - sequential and local execution.')\n",
    "parser.add_argument('--min_budget',   type=float, help='Minimum budget used during the optimization.',    default=9)\n",
    "args = parser.parse_args()\n",
    "print(args.echo)\n",
    "#parser.add_argument('--max_budget',   type=float, help='Maximum budget used during the optimization.',    default=243)\n",
    "#parser.add_argument('--n_iterations', type=int,   help='Number of iterations performed by the optimizer', default=4)\n",
    "#args=parser.parse_args()\n",
    "\n",
    "\n",
    "\n",
    "# Step 1: Start a nameserver\n",
    "# Every run needs a nameserver. It could be a 'static' server with a\n",
    "# permanent address, but here it will be started for the local machine with the default port.\n",
    "# The nameserver manages the concurrent running workers across all possible threads or clusternodes.\n",
    "# Note the run_id argument. This uniquely identifies a run of any HpBandSter optimizer.\n",
    "NS = hpns.NameServer(run_id='example1', host='127.0.0.1', port=None)\n",
    "NS.start()\n",
    "\n",
    "# Step 2: Start a worker\n",
    "# Now we can instantiate a worker, providing the mandatory information\n",
    "# Besides the sleep_interval, we need to define the nameserver information and\n",
    "# the same run_id as above. After that, we can start the worker in the background,\n",
    "# where it will wait for incoming configurations to evaluate.\n",
    "w = MyWorker(sleep_interval = 0, nameserver='127.0.0.1',run_id='example1')\n",
    "w.run(background=True)\n",
    "\n",
    "# Step 3: Run an optimizer\n",
    "# Now we can create an optimizer object and start the run.\n",
    "# Here, we run BOHB, but that is not essential.\n",
    "# The run method will return the `Result` that contains all runs performed.\n",
    "bohb = BOHB(  configspace = w.get_configspace(),\n",
    "              run_id = 'example1', nameserver='127.0.0.1',\n",
    "              min_budget=args.min_budget, max_budget=args.max_budget\n",
    "           )\n",
    "res = bohb.run(n_iterations=args.n_iterations)\n",
    "\n",
    "# Step 4: Shutdown\n",
    "# After the optimizer run, we must shutdown the master and the nameserver.\n",
    "bohb.shutdown(shutdown_workers=True)\n",
    "NS.shutdown()\n",
    "\n",
    "# Step 5: Analysis\n",
    "# Each optimizer returns a hpbandster.core.result.Result object.\n",
    "# It holds informations about the optimization run like the incumbent (=best) configuration.\n",
    "# For further details about the Result object, see its documentation.\n",
    "# Here we simply print out the best config and some statistics about the performed runs.\n",
    "id2config = res.get_id2config_mapping()\n",
    "incumbent = res.get_incumbent_id()\n",
    "\n",
    "print('Best found configuration:', id2config[incumbent]['config'])\n",
    "print('A total of %i unique configurations where sampled.' % len(id2config.keys()))\n",
    "print('A total of %i runs where executed.' % len(res.get_all_runs()))\n",
    "print('Total budget corresponds to %.1f full function evaluations.'%(sum([r.budget for r in res.get_all_runs()])/args.max_budget))\n",
    "\n"
   ]
  },
  {
   "cell_type": "code",
   "execution_count": null,
   "metadata": {},
   "outputs": [],
   "source": []
  }
 ],
 "metadata": {
  "kernelspec": {
   "display_name": "Python 3",
   "language": "python",
   "name": "python3"
  },
  "language_info": {
   "codemirror_mode": {
    "name": "ipython",
    "version": 3
   },
   "file_extension": ".py",
   "mimetype": "text/x-python",
   "name": "python",
   "nbconvert_exporter": "python",
   "pygments_lexer": "ipython3",
   "version": "3.7.3"
  }
 },
 "nbformat": 4,
 "nbformat_minor": 2
}
