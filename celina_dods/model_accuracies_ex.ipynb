{
 "cells": [
  {
   "cell_type": "code",
   "execution_count": 4,
   "metadata": {},
   "outputs": [
    {
     "name": "stdout",
     "output_type": "stream",
     "text": [
      "0.9737302977232924\n",
      "0.9474605954465849\n",
      "0.9667250437828371\n",
      "0.9457092819614711\n"
     ]
    }
   ],
   "source": [
    "from sklearn.ensemble import RandomForestClassifier\n",
    "from rerf.rerfClassifier import rerfClassifier\n",
    "from sklearn.model_selection import train_test_split\n",
    "import openml\n",
    "from sklearn import metrics\n",
    "import numpy as np\n",
    "\n",
    "from warnings import simplefilter\n",
    "simplefilter(action='ignore', category=FutureWarning)\n",
    "from warnings import simplefilter\n",
    "simplefilter(action='ignore', category=FutureWarning)\n",
    "\n",
    "\n",
    "dict = {rerfClassifier(feature_combinations=1.5, image_height=None, image_width=None,\n",
    "               max_depth=None, max_features='auto', min_samples_split=1,\n",
    "               n_estimators=100, n_jobs=None, oob_score=False,\n",
    "               patch_height_max=None, patch_height_min=1, patch_width_max=None,\n",
    "               patch_width_min=1, projection_matrix='RerF', random_state=None): \n",
    "                    {'n_estimators': 350, \n",
    "                    'min_samples_split': 1, \n",
    "                    'max_features': 36, \n",
    "                    'max_depth': 1536, \n",
    "                    'feature_combinations': 2}, \n",
    "        RandomForestClassifier(bootstrap=True, class_weight=None, criterion='gini',\n",
    "                max_depth=None, max_features='auto', max_leaf_nodes=None,\n",
    "                min_impurity_decrease=0.0, min_impurity_split=None,\n",
    "                min_samples_leaf=1, min_samples_split=2,\n",
    "                min_weight_fraction_leaf=0.0, n_estimators=100,\n",
    "                n_jobs=None, oob_score=False, random_state=None,\n",
    "                verbose=0, warm_start=False): \n",
    "                    {'n_estimators': 500, \n",
    "                     'min_samples_split': 2, \n",
    "                     'max_features': None, \n",
    "                     'max_depth': 961}\n",
    "       }\n",
    "\n",
    "keys, values = zip(*dict.items())\n",
    "\n",
    "# get some data\n",
    "task_id = 146821 #car\n",
    "openml.config.apikey = 'c9ea8896542dd998ea42685f14e2bc14'\n",
    "benchmark_suite = openml.study.get_suite('OpenML-CC18')\n",
    "task = openml.tasks.get_task(task_id)\n",
    "X, y = task.get_X_and_y()\n",
    "n_features = np.shape(X)[1]\n",
    "n_samples = np.shape(X)[0]\n",
    "\n",
    "#train test split\n",
    "X_train, X_test, y_train, y_test = train_test_split(X, y, test_size=0.33, random_state=42)\n",
    "\n",
    "rerf_opti = rerfClassifier(**values[0])\n",
    "rerf_opti.fit(X_train, y_train)\n",
    "rerf_pred_opti = rerf_opti.predict(X_test)\n",
    "rerf_accuracy_opti = metrics.accuracy_score(y_test, rerf_pred_opti)\n",
    "print(rerf_accuracy_opti)\n",
    "    \n",
    "rerf_default = RandomForestClassifier()\n",
    "rerf_default.fit(X_train, y_train)\n",
    "rerf_pred_default = rerf_default.predict(X_test)\n",
    "rerf_accuracy_default = metrics.accuracy_score(y_test, rerf_pred_default)\n",
    "print(rerf_accuracy_default)\n",
    "\n",
    "rf_opti = RandomForestClassifier(**values[1])\n",
    "rf_opti.fit(X_train, y_train)\n",
    "rf_pred_opti = rf_opti.predict(X_test)\n",
    "rf_accuracy_opti = metrics.accuracy_score(y_test, rf_pred_opti)\n",
    "print(rf_accuracy_opti)\n",
    "    \n",
    "rf_default = RandomForestClassifier()\n",
    "rf_default.fit(X_train, y_train)\n",
    "rf_pred_default = rf_default.predict(X_test)\n",
    "rf_accuracy_default = metrics.accuracy_score(y_test, rf_pred_default)\n",
    "print(rf_accuracy_default)"
   ]
  }
 ],
 "metadata": {
  "kernelspec": {
   "display_name": "Python 3",
   "language": "python",
   "name": "python3"
  },
  "language_info": {
   "codemirror_mode": {
    "name": "ipython",
    "version": 3
   },
   "file_extension": ".py",
   "mimetype": "text/x-python",
   "name": "python",
   "nbconvert_exporter": "python",
   "pygments_lexer": "ipython3",
   "version": "3.7.3"
  }
 },
 "nbformat": 4,
 "nbformat_minor": 2
}
